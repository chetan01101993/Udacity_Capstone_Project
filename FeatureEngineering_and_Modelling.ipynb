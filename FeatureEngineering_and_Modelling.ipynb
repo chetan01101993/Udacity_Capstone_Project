{
 "cells": [
  {
   "cell_type": "code",
   "execution_count": 2,
   "metadata": {},
   "outputs": [
    {
     "name": "stderr",
     "output_type": "stream",
     "text": [
      "C:\\Users\\lenovo\\AppData\\Local\\Continuum\\anaconda3\\lib\\site-packages\\statsmodels\\tools\\_testing.py:19: FutureWarning: pandas.util.testing is deprecated. Use the functions in the public API at pandas.testing instead.\n",
      "  import pandas.util.testing as tm\n"
     ]
    }
   ],
   "source": [
    "import matplotlib.pyplot as plt\n",
    "import seaborn as sns\n",
    "%matplotlib inline\n",
    "\n",
    "import statsmodels.api as sm\n",
    "from statsmodels.stats.outliers_influence import variance_inflation_factor\n",
    "\n",
    "import pandas as pd\n",
    "from sklearn.model_selection import train_test_split\n",
    "import seaborn as sns\n",
    "import numpy as np\n",
    "\n",
    "from sklearn import metrics\n",
    "from sklearn.naive_bayes import GaussianNB,MultinomialNB\n",
    "from sklearn.model_selection import train_test_split\n",
    "from sklearn.metrics import accuracy_score,roc_auc_score,roc_curve\n",
    "\n",
    "from sklearn.linear_model import LogisticRegression,SGDClassifier\n",
    "from sklearn.svm import SVC,NuSVC\n",
    "\n",
    "from sklearn.neighbors import KNeighborsClassifier\n",
    "from sklearn.tree import DecisionTreeClassifier\n",
    "from sklearn.ensemble import RandomForestClassifier\n",
    "from sklearn.metrics import confusion_matrix,classification_report,accuracy_score,roc_curve\n",
    "\n",
    "from sklearn import metrics\n",
    "from sklearn.metrics import accuracy_score,precision_recall_fscore_support,plot_roc_curve\n",
    "from sklearn.model_selection import cross_val_score\n",
    "\n",
    "# Importing DecisionTree and Ensemble technique Classifier\n",
    "from sklearn.tree import DecisionTreeRegressor\n",
    "from sklearn.ensemble import BaggingRegressor,GradientBoostingRegressor,RandomForestRegressor\n",
    "from sklearn.metrics import classification_report \n",
    "\n",
    "import scikitplot as skplt\n",
    "\n",
    "import xgboost as xgb\n",
    "from sklearn.preprocessing import OneHotEncoder,PolynomialFeatures\n",
    "from sklearn.svm import SVR\n",
    "from sklearn.metrics import mean_absolute_error,r2_score,mean_squared_error\n",
    "\n",
    "from sklearn.model_selection import GridSearchCV,RandomizedSearchCV\n",
    "from sklearn.preprocessing import PolynomialFeatures\n",
    "from sklearn.cluster import KMeans\n",
    "from sklearn.preprocessing import MinMaxScaler,StandardScaler\n",
    "from sklearn.naive_bayes import GaussianNB\n",
    "\n"
   ]
  },
  {
   "cell_type": "markdown",
   "metadata": {},
   "source": [
    "- Employee attrition class label is 1 and no attrition class label  is 0. \n",
    "- Class label 1 is of more interest to us.\n",
    "- So the employee who is not attriting and is being predicted to be attriting then it's fine. \n",
    "- But employee who is about to attrite and is being predicted to be not attriting then we need to improve our model. i.e we need to reduce class 1 being predicted as class 0.\n"
   ]
  },
  {
   "cell_type": "code",
   "execution_count": 3,
   "metadata": {},
   "outputs": [],
   "source": [
    "train_data=pd.read_csv('train.csv')"
   ]
  },
  {
   "cell_type": "markdown",
   "metadata": {},
   "source": [
    "From Exploratory Data Analaysis we found that there are many corelated feature, so high correlation is one issue.\n",
    "Feature Engineering is nesessary.\n"
   ]
  },
  {
   "cell_type": "code",
   "execution_count": 4,
   "metadata": {},
   "outputs": [
    {
     "data": {
      "text/plain": [
       "1"
      ]
     },
     "execution_count": 4,
     "metadata": {},
     "output_type": "execute_result"
    }
   ],
   "source": [
    "train_data.Behaviour.nunique()"
   ]
  },
  {
   "cell_type": "code",
   "execution_count": 5,
   "metadata": {},
   "outputs": [],
   "source": [
    "train_data.drop(columns=['Id','Behaviour'],inplace=True)"
   ]
  },
  {
   "cell_type": "markdown",
   "metadata": {},
   "source": [
    " From data, it's  must to delete Behaviour column as it's constant value. Also Id column is unique  and doesn't helps in prediction. So needs to be deletes.\n",
    "Columns to Delete:\n",
    "- Behaviour\n",
    "- Id"
   ]
  },
  {
   "cell_type": "code",
   "execution_count": 6,
   "metadata": {},
   "outputs": [
    {
     "name": "stdout",
     "output_type": "stream",
     "text": [
      "Number of duplicates in the training data are 628 of 1628, ie 38.57 % of data duplicated\n"
     ]
    }
   ],
   "source": [
    "print(f\"Number of duplicates in the training data are {train_data.duplicated().sum()} of {len(train_data)}, ie {(100* train_data.duplicated().sum()/len(train_data)).round(2)} % of data duplicated\")\n"
   ]
  },
  {
   "cell_type": "markdown",
   "metadata": {},
   "source": [
    "As checked there are lot of duplicate records. We should remove duplicate records because there can be overfitting case"
   ]
  },
  {
   "cell_type": "code",
   "execution_count": 7,
   "metadata": {},
   "outputs": [],
   "source": [
    "train_data.drop_duplicates(inplace=True)\n"
   ]
  },
  {
   "cell_type": "code",
   "execution_count": 8,
   "metadata": {},
   "outputs": [
    {
     "data": {
      "text/plain": [
       "(1000, 27)"
      ]
     },
     "execution_count": 8,
     "metadata": {},
     "output_type": "execute_result"
    }
   ],
   "source": [
    "train_data.shape"
   ]
  },
  {
   "cell_type": "code",
   "execution_count": 9,
   "metadata": {},
   "outputs": [
    {
     "data": {
      "text/plain": [
       "0    843\n",
       "1    157\n",
       "Name: Attrition, dtype: int64"
      ]
     },
     "execution_count": 9,
     "metadata": {},
     "output_type": "execute_result"
    }
   ],
   "source": [
    "#Also we can check there is class imbalance after removing duplicates\n",
    "train_data.Attrition.value_counts()"
   ]
  },
  {
   "cell_type": "code",
   "execution_count": 10,
   "metadata": {},
   "outputs": [],
   "source": [
    "#separate categorical and numerical columns\n",
    "dtype_df=pd.DataFrame(train_data.dtypes).reset_index()\n",
    "dtype_df=dtype_df.rename(columns={'index':'name',0:'type'})\n",
    "cat_variables=dtype_df[dtype_df.type=='object']['name'].tolist()\n",
    "num_var=dtype_df[dtype_df.type!='object']['name'].tolist()"
   ]
  },
  {
   "cell_type": "code",
   "execution_count": 11,
   "metadata": {},
   "outputs": [
    {
     "name": "stdout",
     "output_type": "stream",
     "text": [
      "['BusinessTravel', 'Department', 'EducationField', 'Gender', 'JobRole', 'MaritalStatus', 'OverTime']\n",
      "['Age', 'Attrition', 'DistanceFromHome', 'Education', 'EmployeeNumber', 'EnvironmentSatisfaction', 'JobInvolvement', 'JobSatisfaction', 'MonthlyIncome', 'NumCompaniesWorked', 'PercentSalaryHike', 'PerformanceRating', 'StockOptionLevel', 'TotalWorkingYears', 'TrainingTimesLastYear', 'YearsAtCompany', 'YearsInCurrentRole', 'YearsSinceLastPromotion', 'YearsWithCurrManager', 'CommunicationSkill']\n"
     ]
    }
   ],
   "source": [
    "print(cat_variables)\n",
    "print(num_var)"
   ]
  },
  {
   "cell_type": "code",
   "execution_count": 12,
   "metadata": {},
   "outputs": [
    {
     "data": {
      "text/html": [
       "<div>\n",
       "<style scoped>\n",
       "    .dataframe tbody tr th:only-of-type {\n",
       "        vertical-align: middle;\n",
       "    }\n",
       "\n",
       "    .dataframe tbody tr th {\n",
       "        vertical-align: top;\n",
       "    }\n",
       "\n",
       "    .dataframe thead th {\n",
       "        text-align: right;\n",
       "    }\n",
       "</style>\n",
       "<table border=\"1\" class=\"dataframe\">\n",
       "  <thead>\n",
       "    <tr style=\"text-align: right;\">\n",
       "      <th></th>\n",
       "      <th>VIF Factor</th>\n",
       "      <th>features</th>\n",
       "    </tr>\n",
       "  </thead>\n",
       "  <tbody>\n",
       "    <tr>\n",
       "      <th>10</th>\n",
       "      <td>100.544367</td>\n",
       "      <td>PerformanceRating</td>\n",
       "    </tr>\n",
       "    <tr>\n",
       "      <th>9</th>\n",
       "      <td>42.125665</td>\n",
       "      <td>PercentSalaryHike</td>\n",
       "    </tr>\n",
       "    <tr>\n",
       "      <th>0</th>\n",
       "      <td>32.847989</td>\n",
       "      <td>Age</td>\n",
       "    </tr>\n",
       "    <tr>\n",
       "      <th>5</th>\n",
       "      <td>14.584347</td>\n",
       "      <td>JobInvolvement</td>\n",
       "    </tr>\n",
       "    <tr>\n",
       "      <th>12</th>\n",
       "      <td>13.615016</td>\n",
       "      <td>TotalWorkingYears</td>\n",
       "    </tr>\n",
       "    <tr>\n",
       "      <th>14</th>\n",
       "      <td>10.229251</td>\n",
       "      <td>YearsAtCompany</td>\n",
       "    </tr>\n",
       "    <tr>\n",
       "      <th>2</th>\n",
       "      <td>9.358355</td>\n",
       "      <td>Education</td>\n",
       "    </tr>\n",
       "    <tr>\n",
       "      <th>6</th>\n",
       "      <td>7.101860</td>\n",
       "      <td>JobSatisfaction</td>\n",
       "    </tr>\n",
       "    <tr>\n",
       "      <th>7</th>\n",
       "      <td>7.025604</td>\n",
       "      <td>MonthlyIncome</td>\n",
       "    </tr>\n",
       "    <tr>\n",
       "      <th>4</th>\n",
       "      <td>6.905842</td>\n",
       "      <td>EnvironmentSatisfaction</td>\n",
       "    </tr>\n",
       "    <tr>\n",
       "      <th>17</th>\n",
       "      <td>6.439047</td>\n",
       "      <td>YearsWithCurrManager</td>\n",
       "    </tr>\n",
       "    <tr>\n",
       "      <th>15</th>\n",
       "      <td>6.351248</td>\n",
       "      <td>YearsInCurrentRole</td>\n",
       "    </tr>\n",
       "    <tr>\n",
       "      <th>18</th>\n",
       "      <td>5.670901</td>\n",
       "      <td>CommunicationSkill</td>\n",
       "    </tr>\n",
       "    <tr>\n",
       "      <th>13</th>\n",
       "      <td>5.639723</td>\n",
       "      <td>TrainingTimesLastYear</td>\n",
       "    </tr>\n",
       "    <tr>\n",
       "      <th>3</th>\n",
       "      <td>3.842176</td>\n",
       "      <td>EmployeeNumber</td>\n",
       "    </tr>\n",
       "    <tr>\n",
       "      <th>8</th>\n",
       "      <td>2.737087</td>\n",
       "      <td>NumCompaniesWorked</td>\n",
       "    </tr>\n",
       "    <tr>\n",
       "      <th>16</th>\n",
       "      <td>2.360346</td>\n",
       "      <td>YearsSinceLastPromotion</td>\n",
       "    </tr>\n",
       "    <tr>\n",
       "      <th>1</th>\n",
       "      <td>2.308548</td>\n",
       "      <td>DistanceFromHome</td>\n",
       "    </tr>\n",
       "    <tr>\n",
       "      <th>11</th>\n",
       "      <td>1.907105</td>\n",
       "      <td>StockOptionLevel</td>\n",
       "    </tr>\n",
       "  </tbody>\n",
       "</table>\n",
       "</div>"
      ],
      "text/plain": [
       "    VIF Factor                 features\n",
       "10  100.544367        PerformanceRating\n",
       "9    42.125665        PercentSalaryHike\n",
       "0    32.847989                      Age\n",
       "5    14.584347           JobInvolvement\n",
       "12   13.615016        TotalWorkingYears\n",
       "14   10.229251           YearsAtCompany\n",
       "2     9.358355                Education\n",
       "6     7.101860          JobSatisfaction\n",
       "7     7.025604            MonthlyIncome\n",
       "4     6.905842  EnvironmentSatisfaction\n",
       "17    6.439047     YearsWithCurrManager\n",
       "15    6.351248       YearsInCurrentRole\n",
       "18    5.670901       CommunicationSkill\n",
       "13    5.639723    TrainingTimesLastYear\n",
       "3     3.842176           EmployeeNumber\n",
       "8     2.737087       NumCompaniesWorked\n",
       "16    2.360346  YearsSinceLastPromotion\n",
       "1     2.308548         DistanceFromHome\n",
       "11    1.907105         StockOptionLevel"
      ]
     },
     "execution_count": 12,
     "metadata": {},
     "output_type": "execute_result"
    }
   ],
   "source": [
    "#corelation check\n",
    "num_var.remove('Attrition')\n",
    "numerical_df=train_data[num_var]\n",
    "vif = pd.DataFrame()\n",
    "vif[\"VIF Factor\"] = [variance_inflation_factor(numerical_df.values, i) for i in range(numerical_df.shape[1])]\n",
    "vif[\"features\"] = numerical_df.columns\n",
    "vif.sort_values(by=['VIF Factor'],ascending=False)"
   ]
  },
  {
   "cell_type": "markdown",
   "metadata": {},
   "source": [
    "As checked there is high correlation  amongst feature variables. Let's reduce the  corelation by doing feature engineering.\n",
    "Below feature engineering function has been generated after lots of iteration"
   ]
  },
  {
   "cell_type": "code",
   "execution_count": 13,
   "metadata": {},
   "outputs": [],
   "source": [
    "def feature_engineering(data):\n",
    "    data['JobInvolment_On_Salary']= data['JobInvolvement'] / data['MonthlyIncome'] * 1000\n",
    "    data['DistanceFromHome_rootedTo_JobSatisfaction'] = data['DistanceFromHome']**(1/data['JobSatisfaction'])\n",
    "    data['Mothers'] = np.where((data['Gender']=='Female') & (data['Age']>=36), 1,0)\n",
    "    data['RateExtended'] = data['MonthlyIncome'] * (8 - data['JobSatisfaction'] - data['EnvironmentSatisfaction'])\n",
    "    data['TotalJobSatisfaction'] = data['EnvironmentSatisfaction'] + data['JobSatisfaction']\n",
    "    data['Sal_Rating']=data['PercentSalaryHike'] + data['PerformanceRating']\n",
    "    data['Years_in_non_current_role']=data.YearsAtCompany-data.YearsInCurrentRole\n",
    "    data.drop(['EnvironmentSatisfaction','YearsInCurrentRole','JobSatisfaction','PercentSalaryHike','MonthlyIncome','JobRole','PerformanceRating','Age'],axis=1,inplace=True)\n",
    "    return data"
   ]
  },
  {
   "cell_type": "code",
   "execution_count": 14,
   "metadata": {},
   "outputs": [],
   "source": [
    "new_data=feature_engineering(train_data)"
   ]
  },
  {
   "cell_type": "code",
   "execution_count": 15,
   "metadata": {},
   "outputs": [
    {
     "data": {
      "text/html": [
       "<div>\n",
       "<style scoped>\n",
       "    .dataframe tbody tr th:only-of-type {\n",
       "        vertical-align: middle;\n",
       "    }\n",
       "\n",
       "    .dataframe tbody tr th {\n",
       "        vertical-align: top;\n",
       "    }\n",
       "\n",
       "    .dataframe thead th {\n",
       "        text-align: right;\n",
       "    }\n",
       "</style>\n",
       "<table border=\"1\" class=\"dataframe\">\n",
       "  <thead>\n",
       "    <tr style=\"text-align: right;\">\n",
       "      <th></th>\n",
       "      <th>Attrition</th>\n",
       "      <th>BusinessTravel</th>\n",
       "      <th>Department</th>\n",
       "      <th>DistanceFromHome</th>\n",
       "      <th>Education</th>\n",
       "      <th>EducationField</th>\n",
       "      <th>EmployeeNumber</th>\n",
       "      <th>Gender</th>\n",
       "      <th>JobInvolvement</th>\n",
       "      <th>MaritalStatus</th>\n",
       "      <th>...</th>\n",
       "      <th>YearsSinceLastPromotion</th>\n",
       "      <th>YearsWithCurrManager</th>\n",
       "      <th>CommunicationSkill</th>\n",
       "      <th>JobInvolment_On_Salary</th>\n",
       "      <th>DistanceFromHome_rootedTo_JobSatisfaction</th>\n",
       "      <th>Mothers</th>\n",
       "      <th>RateExtended</th>\n",
       "      <th>TotalJobSatisfaction</th>\n",
       "      <th>Sal_Rating</th>\n",
       "      <th>Years_in_non_current_role</th>\n",
       "    </tr>\n",
       "  </thead>\n",
       "  <tbody>\n",
       "    <tr>\n",
       "      <th>0</th>\n",
       "      <td>0</td>\n",
       "      <td>Non-Travel</td>\n",
       "      <td>Research &amp; Development</td>\n",
       "      <td>2</td>\n",
       "      <td>3</td>\n",
       "      <td>Medical</td>\n",
       "      <td>571</td>\n",
       "      <td>Female</td>\n",
       "      <td>3</td>\n",
       "      <td>Single</td>\n",
       "      <td>...</td>\n",
       "      <td>6</td>\n",
       "      <td>7</td>\n",
       "      <td>4</td>\n",
       "      <td>1.170047</td>\n",
       "      <td>1.189207</td>\n",
       "      <td>0</td>\n",
       "      <td>2564</td>\n",
       "      <td>7</td>\n",
       "      <td>17</td>\n",
       "      <td>4</td>\n",
       "    </tr>\n",
       "    <tr>\n",
       "      <th>1</th>\n",
       "      <td>0</td>\n",
       "      <td>Travel_Rarely</td>\n",
       "      <td>Research &amp; Development</td>\n",
       "      <td>12</td>\n",
       "      <td>4</td>\n",
       "      <td>Life Sciences</td>\n",
       "      <td>1614</td>\n",
       "      <td>Female</td>\n",
       "      <td>3</td>\n",
       "      <td>Married</td>\n",
       "      <td>...</td>\n",
       "      <td>1</td>\n",
       "      <td>1</td>\n",
       "      <td>2</td>\n",
       "      <td>0.643363</td>\n",
       "      <td>2.289428</td>\n",
       "      <td>1</td>\n",
       "      <td>9326</td>\n",
       "      <td>6</td>\n",
       "      <td>15</td>\n",
       "      <td>1</td>\n",
       "    </tr>\n",
       "    <tr>\n",
       "      <th>2</th>\n",
       "      <td>1</td>\n",
       "      <td>Travel_Rarely</td>\n",
       "      <td>Sales</td>\n",
       "      <td>2</td>\n",
       "      <td>1</td>\n",
       "      <td>Medical</td>\n",
       "      <td>842</td>\n",
       "      <td>Male</td>\n",
       "      <td>3</td>\n",
       "      <td>Single</td>\n",
       "      <td>...</td>\n",
       "      <td>7</td>\n",
       "      <td>3</td>\n",
       "      <td>5</td>\n",
       "      <td>0.581395</td>\n",
       "      <td>1.189207</td>\n",
       "      <td>0</td>\n",
       "      <td>5160</td>\n",
       "      <td>7</td>\n",
       "      <td>19</td>\n",
       "      <td>2</td>\n",
       "    </tr>\n",
       "    <tr>\n",
       "      <th>3</th>\n",
       "      <td>0</td>\n",
       "      <td>Travel_Rarely</td>\n",
       "      <td>Research &amp; Development</td>\n",
       "      <td>24</td>\n",
       "      <td>1</td>\n",
       "      <td>Life Sciences</td>\n",
       "      <td>2014</td>\n",
       "      <td>Male</td>\n",
       "      <td>3</td>\n",
       "      <td>Single</td>\n",
       "      <td>...</td>\n",
       "      <td>1</td>\n",
       "      <td>7</td>\n",
       "      <td>4</td>\n",
       "      <td>0.730282</td>\n",
       "      <td>2.213364</td>\n",
       "      <td>0</td>\n",
       "      <td>12324</td>\n",
       "      <td>5</td>\n",
       "      <td>16</td>\n",
       "      <td>0</td>\n",
       "    </tr>\n",
       "    <tr>\n",
       "      <th>4</th>\n",
       "      <td>0</td>\n",
       "      <td>Travel_Rarely</td>\n",
       "      <td>Research &amp; Development</td>\n",
       "      <td>3</td>\n",
       "      <td>3</td>\n",
       "      <td>Other</td>\n",
       "      <td>689</td>\n",
       "      <td>Male</td>\n",
       "      <td>3</td>\n",
       "      <td>Married</td>\n",
       "      <td>...</td>\n",
       "      <td>7</td>\n",
       "      <td>8</td>\n",
       "      <td>1</td>\n",
       "      <td>0.317999</td>\n",
       "      <td>1.442250</td>\n",
       "      <td>0</td>\n",
       "      <td>18868</td>\n",
       "      <td>6</td>\n",
       "      <td>18</td>\n",
       "      <td>3</td>\n",
       "    </tr>\n",
       "    <tr>\n",
       "      <th>...</th>\n",
       "      <td>...</td>\n",
       "      <td>...</td>\n",
       "      <td>...</td>\n",
       "      <td>...</td>\n",
       "      <td>...</td>\n",
       "      <td>...</td>\n",
       "      <td>...</td>\n",
       "      <td>...</td>\n",
       "      <td>...</td>\n",
       "      <td>...</td>\n",
       "      <td>...</td>\n",
       "      <td>...</td>\n",
       "      <td>...</td>\n",
       "      <td>...</td>\n",
       "      <td>...</td>\n",
       "      <td>...</td>\n",
       "      <td>...</td>\n",
       "      <td>...</td>\n",
       "      <td>...</td>\n",
       "      <td>...</td>\n",
       "      <td>...</td>\n",
       "    </tr>\n",
       "    <tr>\n",
       "      <th>995</th>\n",
       "      <td>0</td>\n",
       "      <td>Non-Travel</td>\n",
       "      <td>Sales</td>\n",
       "      <td>10</td>\n",
       "      <td>4</td>\n",
       "      <td>Medical</td>\n",
       "      <td>592</td>\n",
       "      <td>Male</td>\n",
       "      <td>3</td>\n",
       "      <td>Single</td>\n",
       "      <td>...</td>\n",
       "      <td>9</td>\n",
       "      <td>7</td>\n",
       "      <td>4</td>\n",
       "      <td>0.300601</td>\n",
       "      <td>1.778279</td>\n",
       "      <td>0</td>\n",
       "      <td>19960</td>\n",
       "      <td>6</td>\n",
       "      <td>17</td>\n",
       "      <td>7</td>\n",
       "    </tr>\n",
       "    <tr>\n",
       "      <th>996</th>\n",
       "      <td>0</td>\n",
       "      <td>Travel_Rarely</td>\n",
       "      <td>Research &amp; Development</td>\n",
       "      <td>16</td>\n",
       "      <td>3</td>\n",
       "      <td>Life Sciences</td>\n",
       "      <td>1641</td>\n",
       "      <td>Female</td>\n",
       "      <td>3</td>\n",
       "      <td>Single</td>\n",
       "      <td>...</td>\n",
       "      <td>3</td>\n",
       "      <td>3</td>\n",
       "      <td>2</td>\n",
       "      <td>0.377596</td>\n",
       "      <td>2.000000</td>\n",
       "      <td>1</td>\n",
       "      <td>7945</td>\n",
       "      <td>7</td>\n",
       "      <td>18</td>\n",
       "      <td>2</td>\n",
       "    </tr>\n",
       "    <tr>\n",
       "      <th>997</th>\n",
       "      <td>1</td>\n",
       "      <td>Travel_Rarely</td>\n",
       "      <td>Sales</td>\n",
       "      <td>9</td>\n",
       "      <td>2</td>\n",
       "      <td>Medical</td>\n",
       "      <td>118</td>\n",
       "      <td>Male</td>\n",
       "      <td>2</td>\n",
       "      <td>Single</td>\n",
       "      <td>...</td>\n",
       "      <td>4</td>\n",
       "      <td>7</td>\n",
       "      <td>4</td>\n",
       "      <td>0.207922</td>\n",
       "      <td>1.732051</td>\n",
       "      <td>0</td>\n",
       "      <td>9619</td>\n",
       "      <td>7</td>\n",
       "      <td>19</td>\n",
       "      <td>1</td>\n",
       "    </tr>\n",
       "    <tr>\n",
       "      <th>998</th>\n",
       "      <td>0</td>\n",
       "      <td>Travel_Rarely</td>\n",
       "      <td>Research &amp; Development</td>\n",
       "      <td>2</td>\n",
       "      <td>3</td>\n",
       "      <td>Medical</td>\n",
       "      <td>833</td>\n",
       "      <td>Female</td>\n",
       "      <td>2</td>\n",
       "      <td>Single</td>\n",
       "      <td>...</td>\n",
       "      <td>0</td>\n",
       "      <td>0</td>\n",
       "      <td>5</td>\n",
       "      <td>0.290824</td>\n",
       "      <td>1.189207</td>\n",
       "      <td>0</td>\n",
       "      <td>6877</td>\n",
       "      <td>7</td>\n",
       "      <td>28</td>\n",
       "      <td>0</td>\n",
       "    </tr>\n",
       "    <tr>\n",
       "      <th>999</th>\n",
       "      <td>0</td>\n",
       "      <td>Travel_Frequently</td>\n",
       "      <td>Sales</td>\n",
       "      <td>2</td>\n",
       "      <td>3</td>\n",
       "      <td>Marketing</td>\n",
       "      <td>1050</td>\n",
       "      <td>Female</td>\n",
       "      <td>2</td>\n",
       "      <td>Married</td>\n",
       "      <td>...</td>\n",
       "      <td>6</td>\n",
       "      <td>12</td>\n",
       "      <td>3</td>\n",
       "      <td>0.265781</td>\n",
       "      <td>1.414214</td>\n",
       "      <td>1</td>\n",
       "      <td>22575</td>\n",
       "      <td>5</td>\n",
       "      <td>15</td>\n",
       "      <td>8</td>\n",
       "    </tr>\n",
       "  </tbody>\n",
       "</table>\n",
       "<p>1000 rows × 26 columns</p>\n",
       "</div>"
      ],
      "text/plain": [
       "     Attrition     BusinessTravel              Department  DistanceFromHome  \\\n",
       "0            0         Non-Travel  Research & Development                 2   \n",
       "1            0      Travel_Rarely  Research & Development                12   \n",
       "2            1      Travel_Rarely                   Sales                 2   \n",
       "3            0      Travel_Rarely  Research & Development                24   \n",
       "4            0      Travel_Rarely  Research & Development                 3   \n",
       "..         ...                ...                     ...               ...   \n",
       "995          0         Non-Travel                   Sales                10   \n",
       "996          0      Travel_Rarely  Research & Development                16   \n",
       "997          1      Travel_Rarely                   Sales                 9   \n",
       "998          0      Travel_Rarely  Research & Development                 2   \n",
       "999          0  Travel_Frequently                   Sales                 2   \n",
       "\n",
       "     Education EducationField  EmployeeNumber  Gender  JobInvolvement  \\\n",
       "0            3        Medical             571  Female               3   \n",
       "1            4  Life Sciences            1614  Female               3   \n",
       "2            1        Medical             842    Male               3   \n",
       "3            1  Life Sciences            2014    Male               3   \n",
       "4            3          Other             689    Male               3   \n",
       "..         ...            ...             ...     ...             ...   \n",
       "995          4        Medical             592    Male               3   \n",
       "996          3  Life Sciences            1641  Female               3   \n",
       "997          2        Medical             118    Male               2   \n",
       "998          3        Medical             833  Female               2   \n",
       "999          3      Marketing            1050  Female               2   \n",
       "\n",
       "    MaritalStatus  ...  YearsSinceLastPromotion YearsWithCurrManager  \\\n",
       "0          Single  ...                        6                    7   \n",
       "1         Married  ...                        1                    1   \n",
       "2          Single  ...                        7                    3   \n",
       "3          Single  ...                        1                    7   \n",
       "4         Married  ...                        7                    8   \n",
       "..            ...  ...                      ...                  ...   \n",
       "995        Single  ...                        9                    7   \n",
       "996        Single  ...                        3                    3   \n",
       "997        Single  ...                        4                    7   \n",
       "998        Single  ...                        0                    0   \n",
       "999       Married  ...                        6                   12   \n",
       "\n",
       "     CommunicationSkill  JobInvolment_On_Salary  \\\n",
       "0                     4                1.170047   \n",
       "1                     2                0.643363   \n",
       "2                     5                0.581395   \n",
       "3                     4                0.730282   \n",
       "4                     1                0.317999   \n",
       "..                  ...                     ...   \n",
       "995                   4                0.300601   \n",
       "996                   2                0.377596   \n",
       "997                   4                0.207922   \n",
       "998                   5                0.290824   \n",
       "999                   3                0.265781   \n",
       "\n",
       "     DistanceFromHome_rootedTo_JobSatisfaction  Mothers  RateExtended  \\\n",
       "0                                     1.189207        0          2564   \n",
       "1                                     2.289428        1          9326   \n",
       "2                                     1.189207        0          5160   \n",
       "3                                     2.213364        0         12324   \n",
       "4                                     1.442250        0         18868   \n",
       "..                                         ...      ...           ...   \n",
       "995                                   1.778279        0         19960   \n",
       "996                                   2.000000        1          7945   \n",
       "997                                   1.732051        0          9619   \n",
       "998                                   1.189207        0          6877   \n",
       "999                                   1.414214        1         22575   \n",
       "\n",
       "     TotalJobSatisfaction  Sal_Rating  Years_in_non_current_role  \n",
       "0                       7          17                          4  \n",
       "1                       6          15                          1  \n",
       "2                       7          19                          2  \n",
       "3                       5          16                          0  \n",
       "4                       6          18                          3  \n",
       "..                    ...         ...                        ...  \n",
       "995                     6          17                          7  \n",
       "996                     7          18                          2  \n",
       "997                     7          19                          1  \n",
       "998                     7          28                          0  \n",
       "999                     5          15                          8  \n",
       "\n",
       "[1000 rows x 26 columns]"
      ]
     },
     "execution_count": 15,
     "metadata": {},
     "output_type": "execute_result"
    }
   ],
   "source": [
    "new_data"
   ]
  },
  {
   "cell_type": "code",
   "execution_count": 16,
   "metadata": {},
   "outputs": [],
   "source": [
    "dtype_df=pd.DataFrame(new_data.dtypes).reset_index()\n",
    "dtype_df=dtype_df.rename(columns={'index':'name',0:'type'})\n",
    "cat_variables=dtype_df[dtype_df.type=='object']['name'].tolist()\n",
    "num_var=dtype_df[dtype_df.type!='object']['name'].tolist()\n"
   ]
  },
  {
   "cell_type": "code",
   "execution_count": 17,
   "metadata": {},
   "outputs": [
    {
     "data": {
      "text/plain": [
       "['Attrition',\n",
       " 'DistanceFromHome',\n",
       " 'Education',\n",
       " 'EmployeeNumber',\n",
       " 'JobInvolvement',\n",
       " 'NumCompaniesWorked',\n",
       " 'StockOptionLevel',\n",
       " 'TotalWorkingYears',\n",
       " 'TrainingTimesLastYear',\n",
       " 'YearsAtCompany',\n",
       " 'YearsSinceLastPromotion',\n",
       " 'YearsWithCurrManager',\n",
       " 'CommunicationSkill',\n",
       " 'JobInvolment_On_Salary',\n",
       " 'DistanceFromHome_rootedTo_JobSatisfaction',\n",
       " 'Mothers',\n",
       " 'RateExtended',\n",
       " 'TotalJobSatisfaction',\n",
       " 'Sal_Rating',\n",
       " 'Years_in_non_current_role']"
      ]
     },
     "execution_count": 17,
     "metadata": {},
     "output_type": "execute_result"
    }
   ],
   "source": [
    "num_var"
   ]
  },
  {
   "cell_type": "code",
   "execution_count": 18,
   "metadata": {},
   "outputs": [
    {
     "data": {
      "text/html": [
       "<div>\n",
       "<style scoped>\n",
       "    .dataframe tbody tr th:only-of-type {\n",
       "        vertical-align: middle;\n",
       "    }\n",
       "\n",
       "    .dataframe tbody tr th {\n",
       "        vertical-align: top;\n",
       "    }\n",
       "\n",
       "    .dataframe thead th {\n",
       "        text-align: right;\n",
       "    }\n",
       "</style>\n",
       "<table border=\"1\" class=\"dataframe\">\n",
       "  <thead>\n",
       "    <tr style=\"text-align: right;\">\n",
       "      <th></th>\n",
       "      <th>VIF Factor</th>\n",
       "      <th>features</th>\n",
       "    </tr>\n",
       "  </thead>\n",
       "  <tbody>\n",
       "    <tr>\n",
       "      <th>4</th>\n",
       "      <td>22.132607</td>\n",
       "      <td>JobInvolvement</td>\n",
       "    </tr>\n",
       "    <tr>\n",
       "      <th>17</th>\n",
       "      <td>18.729697</td>\n",
       "      <td>TotalJobSatisfaction</td>\n",
       "    </tr>\n",
       "    <tr>\n",
       "      <th>9</th>\n",
       "      <td>18.153850</td>\n",
       "      <td>YearsAtCompany</td>\n",
       "    </tr>\n",
       "    <tr>\n",
       "      <th>18</th>\n",
       "      <td>17.932026</td>\n",
       "      <td>Sal_Rating</td>\n",
       "    </tr>\n",
       "    <tr>\n",
       "      <th>7</th>\n",
       "      <td>9.048925</td>\n",
       "      <td>TotalWorkingYears</td>\n",
       "    </tr>\n",
       "    <tr>\n",
       "      <th>2</th>\n",
       "      <td>8.848843</td>\n",
       "      <td>Education</td>\n",
       "    </tr>\n",
       "    <tr>\n",
       "      <th>13</th>\n",
       "      <td>7.068094</td>\n",
       "      <td>JobInvolment_On_Salary</td>\n",
       "    </tr>\n",
       "    <tr>\n",
       "      <th>11</th>\n",
       "      <td>6.448851</td>\n",
       "      <td>YearsWithCurrManager</td>\n",
       "    </tr>\n",
       "    <tr>\n",
       "      <th>12</th>\n",
       "      <td>5.529290</td>\n",
       "      <td>CommunicationSkill</td>\n",
       "    </tr>\n",
       "    <tr>\n",
       "      <th>8</th>\n",
       "      <td>5.489200</td>\n",
       "      <td>TrainingTimesLastYear</td>\n",
       "    </tr>\n",
       "    <tr>\n",
       "      <th>19</th>\n",
       "      <td>5.175066</td>\n",
       "      <td>Years_in_non_current_role</td>\n",
       "    </tr>\n",
       "    <tr>\n",
       "      <th>16</th>\n",
       "      <td>5.031948</td>\n",
       "      <td>RateExtended</td>\n",
       "    </tr>\n",
       "    <tr>\n",
       "      <th>3</th>\n",
       "      <td>3.824892</td>\n",
       "      <td>EmployeeNumber</td>\n",
       "    </tr>\n",
       "    <tr>\n",
       "      <th>1</th>\n",
       "      <td>3.089843</td>\n",
       "      <td>DistanceFromHome</td>\n",
       "    </tr>\n",
       "    <tr>\n",
       "      <th>5</th>\n",
       "      <td>2.716761</td>\n",
       "      <td>NumCompaniesWorked</td>\n",
       "    </tr>\n",
       "    <tr>\n",
       "      <th>10</th>\n",
       "      <td>2.387032</td>\n",
       "      <td>YearsSinceLastPromotion</td>\n",
       "    </tr>\n",
       "    <tr>\n",
       "      <th>14</th>\n",
       "      <td>2.279467</td>\n",
       "      <td>DistanceFromHome_rootedTo_JobSatisfaction</td>\n",
       "    </tr>\n",
       "    <tr>\n",
       "      <th>6</th>\n",
       "      <td>1.931258</td>\n",
       "      <td>StockOptionLevel</td>\n",
       "    </tr>\n",
       "    <tr>\n",
       "      <th>15</th>\n",
       "      <td>1.430564</td>\n",
       "      <td>Mothers</td>\n",
       "    </tr>\n",
       "    <tr>\n",
       "      <th>0</th>\n",
       "      <td>1.340921</td>\n",
       "      <td>Attrition</td>\n",
       "    </tr>\n",
       "  </tbody>\n",
       "</table>\n",
       "</div>"
      ],
      "text/plain": [
       "    VIF Factor                                   features\n",
       "4    22.132607                             JobInvolvement\n",
       "17   18.729697                       TotalJobSatisfaction\n",
       "9    18.153850                             YearsAtCompany\n",
       "18   17.932026                                 Sal_Rating\n",
       "7     9.048925                          TotalWorkingYears\n",
       "2     8.848843                                  Education\n",
       "13    7.068094                     JobInvolment_On_Salary\n",
       "11    6.448851                       YearsWithCurrManager\n",
       "12    5.529290                         CommunicationSkill\n",
       "8     5.489200                      TrainingTimesLastYear\n",
       "19    5.175066                  Years_in_non_current_role\n",
       "16    5.031948                               RateExtended\n",
       "3     3.824892                             EmployeeNumber\n",
       "1     3.089843                           DistanceFromHome\n",
       "5     2.716761                         NumCompaniesWorked\n",
       "10    2.387032                    YearsSinceLastPromotion\n",
       "14    2.279467  DistanceFromHome_rootedTo_JobSatisfaction\n",
       "6     1.931258                           StockOptionLevel\n",
       "15    1.430564                                    Mothers\n",
       "0     1.340921                                  Attrition"
      ]
     },
     "execution_count": 18,
     "metadata": {},
     "output_type": "execute_result"
    }
   ],
   "source": [
    "#corelation check\n",
    "numerical_df=new_data[num_var]\n",
    "vif = pd.DataFrame()\n",
    "vif[\"VIF Factor\"] = [variance_inflation_factor(numerical_df.values, i) for i in range(numerical_df.shape[1])]\n",
    "vif[\"features\"] = numerical_df.columns\n",
    "vif.sort_values(by=['VIF Factor'],ascending=False)"
   ]
  },
  {
   "cell_type": "markdown",
   "metadata": {},
   "source": [
    "As we can see by doing feature engineering and removing some variables, correlation amongst variables has been reduced significantly"
   ]
  },
  {
   "cell_type": "code",
   "execution_count": 19,
   "metadata": {},
   "outputs": [],
   "source": [
    "#Scale the values\n",
    "rb=MinMaxScaler()\n",
    "new_data[num_var]=rb.fit_transform(new_data[num_var])"
   ]
  },
  {
   "cell_type": "code",
   "execution_count": 20,
   "metadata": {},
   "outputs": [
    {
     "data": {
      "text/html": [
       "<div>\n",
       "<style scoped>\n",
       "    .dataframe tbody tr th:only-of-type {\n",
       "        vertical-align: middle;\n",
       "    }\n",
       "\n",
       "    .dataframe tbody tr th {\n",
       "        vertical-align: top;\n",
       "    }\n",
       "\n",
       "    .dataframe thead th {\n",
       "        text-align: right;\n",
       "    }\n",
       "</style>\n",
       "<table border=\"1\" class=\"dataframe\">\n",
       "  <thead>\n",
       "    <tr style=\"text-align: right;\">\n",
       "      <th></th>\n",
       "      <th>Attrition</th>\n",
       "      <th>BusinessTravel</th>\n",
       "      <th>Department</th>\n",
       "      <th>DistanceFromHome</th>\n",
       "      <th>Education</th>\n",
       "      <th>EducationField</th>\n",
       "      <th>EmployeeNumber</th>\n",
       "      <th>Gender</th>\n",
       "      <th>JobInvolvement</th>\n",
       "      <th>MaritalStatus</th>\n",
       "      <th>...</th>\n",
       "      <th>YearsSinceLastPromotion</th>\n",
       "      <th>YearsWithCurrManager</th>\n",
       "      <th>CommunicationSkill</th>\n",
       "      <th>JobInvolment_On_Salary</th>\n",
       "      <th>DistanceFromHome_rootedTo_JobSatisfaction</th>\n",
       "      <th>Mothers</th>\n",
       "      <th>RateExtended</th>\n",
       "      <th>TotalJobSatisfaction</th>\n",
       "      <th>Sal_Rating</th>\n",
       "      <th>Years_in_non_current_role</th>\n",
       "    </tr>\n",
       "  </thead>\n",
       "  <tbody>\n",
       "    <tr>\n",
       "      <th>0</th>\n",
       "      <td>0.0</td>\n",
       "      <td>Non-Travel</td>\n",
       "      <td>Research &amp; Development</td>\n",
       "      <td>0.035714</td>\n",
       "      <td>0.50</td>\n",
       "      <td>Medical</td>\n",
       "      <td>0.275762</td>\n",
       "      <td>Female</td>\n",
       "      <td>0.666667</td>\n",
       "      <td>Single</td>\n",
       "      <td>...</td>\n",
       "      <td>0.400000</td>\n",
       "      <td>0.411765</td>\n",
       "      <td>0.75</td>\n",
       "      <td>0.383138</td>\n",
       "      <td>0.006757</td>\n",
       "      <td>0.0</td>\n",
       "      <td>0.023841</td>\n",
       "      <td>0.833333</td>\n",
       "      <td>0.200000</td>\n",
       "      <td>0.133333</td>\n",
       "    </tr>\n",
       "    <tr>\n",
       "      <th>1</th>\n",
       "      <td>0.0</td>\n",
       "      <td>Travel_Rarely</td>\n",
       "      <td>Research &amp; Development</td>\n",
       "      <td>0.392857</td>\n",
       "      <td>0.75</td>\n",
       "      <td>Life Sciences</td>\n",
       "      <td>0.780358</td>\n",
       "      <td>Female</td>\n",
       "      <td>0.666667</td>\n",
       "      <td>Married</td>\n",
       "      <td>...</td>\n",
       "      <td>0.066667</td>\n",
       "      <td>0.058824</td>\n",
       "      <td>0.25</td>\n",
       "      <td>0.202963</td>\n",
       "      <td>0.046051</td>\n",
       "      <td>1.0</td>\n",
       "      <td>0.086718</td>\n",
       "      <td>0.666667</td>\n",
       "      <td>0.066667</td>\n",
       "      <td>0.033333</td>\n",
       "    </tr>\n",
       "    <tr>\n",
       "      <th>2</th>\n",
       "      <td>1.0</td>\n",
       "      <td>Travel_Rarely</td>\n",
       "      <td>Sales</td>\n",
       "      <td>0.035714</td>\n",
       "      <td>0.00</td>\n",
       "      <td>Medical</td>\n",
       "      <td>0.406870</td>\n",
       "      <td>Male</td>\n",
       "      <td>0.666667</td>\n",
       "      <td>Single</td>\n",
       "      <td>...</td>\n",
       "      <td>0.466667</td>\n",
       "      <td>0.176471</td>\n",
       "      <td>1.00</td>\n",
       "      <td>0.181764</td>\n",
       "      <td>0.006757</td>\n",
       "      <td>0.0</td>\n",
       "      <td>0.047980</td>\n",
       "      <td>0.833333</td>\n",
       "      <td>0.333333</td>\n",
       "      <td>0.066667</td>\n",
       "    </tr>\n",
       "    <tr>\n",
       "      <th>3</th>\n",
       "      <td>0.0</td>\n",
       "      <td>Travel_Rarely</td>\n",
       "      <td>Research &amp; Development</td>\n",
       "      <td>0.821429</td>\n",
       "      <td>0.00</td>\n",
       "      <td>Life Sciences</td>\n",
       "      <td>0.973875</td>\n",
       "      <td>Male</td>\n",
       "      <td>0.666667</td>\n",
       "      <td>Single</td>\n",
       "      <td>...</td>\n",
       "      <td>0.066667</td>\n",
       "      <td>0.411765</td>\n",
       "      <td>0.75</td>\n",
       "      <td>0.232697</td>\n",
       "      <td>0.043334</td>\n",
       "      <td>0.0</td>\n",
       "      <td>0.114595</td>\n",
       "      <td>0.500000</td>\n",
       "      <td>0.133333</td>\n",
       "      <td>0.000000</td>\n",
       "    </tr>\n",
       "    <tr>\n",
       "      <th>4</th>\n",
       "      <td>0.0</td>\n",
       "      <td>Travel_Rarely</td>\n",
       "      <td>Research &amp; Development</td>\n",
       "      <td>0.071429</td>\n",
       "      <td>0.50</td>\n",
       "      <td>Other</td>\n",
       "      <td>0.332850</td>\n",
       "      <td>Male</td>\n",
       "      <td>0.666667</td>\n",
       "      <td>Married</td>\n",
       "      <td>...</td>\n",
       "      <td>0.466667</td>\n",
       "      <td>0.470588</td>\n",
       "      <td>0.00</td>\n",
       "      <td>0.091658</td>\n",
       "      <td>0.015795</td>\n",
       "      <td>0.0</td>\n",
       "      <td>0.175444</td>\n",
       "      <td>0.666667</td>\n",
       "      <td>0.266667</td>\n",
       "      <td>0.100000</td>\n",
       "    </tr>\n",
       "    <tr>\n",
       "      <th>...</th>\n",
       "      <td>...</td>\n",
       "      <td>...</td>\n",
       "      <td>...</td>\n",
       "      <td>...</td>\n",
       "      <td>...</td>\n",
       "      <td>...</td>\n",
       "      <td>...</td>\n",
       "      <td>...</td>\n",
       "      <td>...</td>\n",
       "      <td>...</td>\n",
       "      <td>...</td>\n",
       "      <td>...</td>\n",
       "      <td>...</td>\n",
       "      <td>...</td>\n",
       "      <td>...</td>\n",
       "      <td>...</td>\n",
       "      <td>...</td>\n",
       "      <td>...</td>\n",
       "      <td>...</td>\n",
       "      <td>...</td>\n",
       "      <td>...</td>\n",
       "    </tr>\n",
       "    <tr>\n",
       "      <th>995</th>\n",
       "      <td>0.0</td>\n",
       "      <td>Non-Travel</td>\n",
       "      <td>Sales</td>\n",
       "      <td>0.321429</td>\n",
       "      <td>0.75</td>\n",
       "      <td>Medical</td>\n",
       "      <td>0.285922</td>\n",
       "      <td>Male</td>\n",
       "      <td>0.666667</td>\n",
       "      <td>Single</td>\n",
       "      <td>...</td>\n",
       "      <td>0.600000</td>\n",
       "      <td>0.411765</td>\n",
       "      <td>0.75</td>\n",
       "      <td>0.085706</td>\n",
       "      <td>0.027796</td>\n",
       "      <td>0.0</td>\n",
       "      <td>0.185598</td>\n",
       "      <td>0.666667</td>\n",
       "      <td>0.200000</td>\n",
       "      <td>0.233333</td>\n",
       "    </tr>\n",
       "    <tr>\n",
       "      <th>996</th>\n",
       "      <td>0.0</td>\n",
       "      <td>Travel_Rarely</td>\n",
       "      <td>Research &amp; Development</td>\n",
       "      <td>0.535714</td>\n",
       "      <td>0.50</td>\n",
       "      <td>Life Sciences</td>\n",
       "      <td>0.793420</td>\n",
       "      <td>Female</td>\n",
       "      <td>0.666667</td>\n",
       "      <td>Single</td>\n",
       "      <td>...</td>\n",
       "      <td>0.200000</td>\n",
       "      <td>0.176471</td>\n",
       "      <td>0.25</td>\n",
       "      <td>0.112045</td>\n",
       "      <td>0.035714</td>\n",
       "      <td>1.0</td>\n",
       "      <td>0.073877</td>\n",
       "      <td>0.833333</td>\n",
       "      <td>0.266667</td>\n",
       "      <td>0.066667</td>\n",
       "    </tr>\n",
       "    <tr>\n",
       "      <th>997</th>\n",
       "      <td>1.0</td>\n",
       "      <td>Travel_Rarely</td>\n",
       "      <td>Sales</td>\n",
       "      <td>0.285714</td>\n",
       "      <td>0.25</td>\n",
       "      <td>Medical</td>\n",
       "      <td>0.056604</td>\n",
       "      <td>Male</td>\n",
       "      <td>0.333333</td>\n",
       "      <td>Single</td>\n",
       "      <td>...</td>\n",
       "      <td>0.266667</td>\n",
       "      <td>0.411765</td>\n",
       "      <td>0.75</td>\n",
       "      <td>0.054001</td>\n",
       "      <td>0.026145</td>\n",
       "      <td>0.0</td>\n",
       "      <td>0.089442</td>\n",
       "      <td>0.833333</td>\n",
       "      <td>0.333333</td>\n",
       "      <td>0.033333</td>\n",
       "    </tr>\n",
       "    <tr>\n",
       "      <th>998</th>\n",
       "      <td>0.0</td>\n",
       "      <td>Travel_Rarely</td>\n",
       "      <td>Research &amp; Development</td>\n",
       "      <td>0.035714</td>\n",
       "      <td>0.50</td>\n",
       "      <td>Medical</td>\n",
       "      <td>0.402516</td>\n",
       "      <td>Female</td>\n",
       "      <td>0.333333</td>\n",
       "      <td>Single</td>\n",
       "      <td>...</td>\n",
       "      <td>0.000000</td>\n",
       "      <td>0.000000</td>\n",
       "      <td>1.00</td>\n",
       "      <td>0.082361</td>\n",
       "      <td>0.006757</td>\n",
       "      <td>0.0</td>\n",
       "      <td>0.063946</td>\n",
       "      <td>0.833333</td>\n",
       "      <td>0.933333</td>\n",
       "      <td>0.000000</td>\n",
       "    </tr>\n",
       "    <tr>\n",
       "      <th>999</th>\n",
       "      <td>0.0</td>\n",
       "      <td>Travel_Frequently</td>\n",
       "      <td>Sales</td>\n",
       "      <td>0.035714</td>\n",
       "      <td>0.50</td>\n",
       "      <td>Marketing</td>\n",
       "      <td>0.507499</td>\n",
       "      <td>Female</td>\n",
       "      <td>0.333333</td>\n",
       "      <td>Married</td>\n",
       "      <td>...</td>\n",
       "      <td>0.400000</td>\n",
       "      <td>0.705882</td>\n",
       "      <td>0.50</td>\n",
       "      <td>0.073794</td>\n",
       "      <td>0.014793</td>\n",
       "      <td>1.0</td>\n",
       "      <td>0.209914</td>\n",
       "      <td>0.500000</td>\n",
       "      <td>0.066667</td>\n",
       "      <td>0.266667</td>\n",
       "    </tr>\n",
       "  </tbody>\n",
       "</table>\n",
       "<p>1000 rows × 26 columns</p>\n",
       "</div>"
      ],
      "text/plain": [
       "     Attrition     BusinessTravel              Department  DistanceFromHome  \\\n",
       "0          0.0         Non-Travel  Research & Development          0.035714   \n",
       "1          0.0      Travel_Rarely  Research & Development          0.392857   \n",
       "2          1.0      Travel_Rarely                   Sales          0.035714   \n",
       "3          0.0      Travel_Rarely  Research & Development          0.821429   \n",
       "4          0.0      Travel_Rarely  Research & Development          0.071429   \n",
       "..         ...                ...                     ...               ...   \n",
       "995        0.0         Non-Travel                   Sales          0.321429   \n",
       "996        0.0      Travel_Rarely  Research & Development          0.535714   \n",
       "997        1.0      Travel_Rarely                   Sales          0.285714   \n",
       "998        0.0      Travel_Rarely  Research & Development          0.035714   \n",
       "999        0.0  Travel_Frequently                   Sales          0.035714   \n",
       "\n",
       "     Education EducationField  EmployeeNumber  Gender  JobInvolvement  \\\n",
       "0         0.50        Medical        0.275762  Female        0.666667   \n",
       "1         0.75  Life Sciences        0.780358  Female        0.666667   \n",
       "2         0.00        Medical        0.406870    Male        0.666667   \n",
       "3         0.00  Life Sciences        0.973875    Male        0.666667   \n",
       "4         0.50          Other        0.332850    Male        0.666667   \n",
       "..         ...            ...             ...     ...             ...   \n",
       "995       0.75        Medical        0.285922    Male        0.666667   \n",
       "996       0.50  Life Sciences        0.793420  Female        0.666667   \n",
       "997       0.25        Medical        0.056604    Male        0.333333   \n",
       "998       0.50        Medical        0.402516  Female        0.333333   \n",
       "999       0.50      Marketing        0.507499  Female        0.333333   \n",
       "\n",
       "    MaritalStatus  ...  YearsSinceLastPromotion YearsWithCurrManager  \\\n",
       "0          Single  ...                 0.400000             0.411765   \n",
       "1         Married  ...                 0.066667             0.058824   \n",
       "2          Single  ...                 0.466667             0.176471   \n",
       "3          Single  ...                 0.066667             0.411765   \n",
       "4         Married  ...                 0.466667             0.470588   \n",
       "..            ...  ...                      ...                  ...   \n",
       "995        Single  ...                 0.600000             0.411765   \n",
       "996        Single  ...                 0.200000             0.176471   \n",
       "997        Single  ...                 0.266667             0.411765   \n",
       "998        Single  ...                 0.000000             0.000000   \n",
       "999       Married  ...                 0.400000             0.705882   \n",
       "\n",
       "     CommunicationSkill  JobInvolment_On_Salary  \\\n",
       "0                  0.75                0.383138   \n",
       "1                  0.25                0.202963   \n",
       "2                  1.00                0.181764   \n",
       "3                  0.75                0.232697   \n",
       "4                  0.00                0.091658   \n",
       "..                  ...                     ...   \n",
       "995                0.75                0.085706   \n",
       "996                0.25                0.112045   \n",
       "997                0.75                0.054001   \n",
       "998                1.00                0.082361   \n",
       "999                0.50                0.073794   \n",
       "\n",
       "     DistanceFromHome_rootedTo_JobSatisfaction  Mothers  RateExtended  \\\n",
       "0                                     0.006757      0.0      0.023841   \n",
       "1                                     0.046051      1.0      0.086718   \n",
       "2                                     0.006757      0.0      0.047980   \n",
       "3                                     0.043334      0.0      0.114595   \n",
       "4                                     0.015795      0.0      0.175444   \n",
       "..                                         ...      ...           ...   \n",
       "995                                   0.027796      0.0      0.185598   \n",
       "996                                   0.035714      1.0      0.073877   \n",
       "997                                   0.026145      0.0      0.089442   \n",
       "998                                   0.006757      0.0      0.063946   \n",
       "999                                   0.014793      1.0      0.209914   \n",
       "\n",
       "     TotalJobSatisfaction  Sal_Rating  Years_in_non_current_role  \n",
       "0                0.833333    0.200000                   0.133333  \n",
       "1                0.666667    0.066667                   0.033333  \n",
       "2                0.833333    0.333333                   0.066667  \n",
       "3                0.500000    0.133333                   0.000000  \n",
       "4                0.666667    0.266667                   0.100000  \n",
       "..                    ...         ...                        ...  \n",
       "995              0.666667    0.200000                   0.233333  \n",
       "996              0.833333    0.266667                   0.066667  \n",
       "997              0.833333    0.333333                   0.033333  \n",
       "998              0.833333    0.933333                   0.000000  \n",
       "999              0.500000    0.066667                   0.266667  \n",
       "\n",
       "[1000 rows x 26 columns]"
      ]
     },
     "execution_count": 20,
     "metadata": {},
     "output_type": "execute_result"
    }
   ],
   "source": [
    "new_data"
   ]
  },
  {
   "cell_type": "code",
   "execution_count": 21,
   "metadata": {},
   "outputs": [
    {
     "data": {
      "text/plain": [
       "(1000, 33)"
      ]
     },
     "execution_count": 21,
     "metadata": {},
     "output_type": "execute_result"
    }
   ],
   "source": [
    "final_df=new_data.copy(deep=True)\n",
    "#encode categorical variables\n",
    "final_df=pd.get_dummies(final_df,cat_variables,drop_first=True)\n",
    "final_df.shape"
   ]
  },
  {
   "cell_type": "code",
   "execution_count": 22,
   "metadata": {},
   "outputs": [],
   "source": [
    "#split train test data\n",
    "y=final_df['Attrition']\n",
    "X=final_df.drop(columns=['Attrition'],axis=1)\n",
    "X_train, X_test, y_train, y_test=train_test_split(X,y,random_state=42,test_size=0.2,shuffle=True)"
   ]
  },
  {
   "cell_type": "code",
   "execution_count": 23,
   "metadata": {
    "scrolled": true
   },
   "outputs": [
    {
     "name": "stdout",
     "output_type": "stream",
     "text": [
      "(800, 32) (800,)\n",
      "(200, 32) (200,)\n"
     ]
    }
   ],
   "source": [
    "print(X_train.shape,y_train.shape)\n",
    "print(X_test.shape,y_test.shape)"
   ]
  },
  {
   "cell_type": "markdown",
   "metadata": {},
   "source": [
    "## LogisticRegression"
   ]
  },
  {
   "cell_type": "code",
   "execution_count": 106,
   "metadata": {},
   "outputs": [
    {
     "name": "stderr",
     "output_type": "stream",
     "text": [
      "C:\\Users\\lenovo\\AppData\\Local\\Continuum\\anaconda3\\lib\\site-packages\\sklearn\\linear_model\\_sag.py:330: ConvergenceWarning: The max_iter was reached which means the coef_ did not converge\n",
      "  \"the coef_ did not converge\", ConvergenceWarning)\n",
      "C:\\Users\\lenovo\\AppData\\Local\\Continuum\\anaconda3\\lib\\site-packages\\sklearn\\linear_model\\_sag.py:330: ConvergenceWarning: The max_iter was reached which means the coef_ did not converge\n",
      "  \"the coef_ did not converge\", ConvergenceWarning)\n",
      "C:\\Users\\lenovo\\AppData\\Local\\Continuum\\anaconda3\\lib\\site-packages\\sklearn\\linear_model\\_sag.py:330: ConvergenceWarning: The max_iter was reached which means the coef_ did not converge\n",
      "  \"the coef_ did not converge\", ConvergenceWarning)\n",
      "C:\\Users\\lenovo\\AppData\\Local\\Continuum\\anaconda3\\lib\\site-packages\\sklearn\\linear_model\\_sag.py:330: ConvergenceWarning: The max_iter was reached which means the coef_ did not converge\n",
      "  \"the coef_ did not converge\", ConvergenceWarning)\n",
      "C:\\Users\\lenovo\\AppData\\Local\\Continuum\\anaconda3\\lib\\site-packages\\sklearn\\linear_model\\_sag.py:330: ConvergenceWarning: The max_iter was reached which means the coef_ did not converge\n",
      "  \"the coef_ did not converge\", ConvergenceWarning)\n",
      "C:\\Users\\lenovo\\AppData\\Local\\Continuum\\anaconda3\\lib\\site-packages\\sklearn\\linear_model\\_sag.py:330: ConvergenceWarning: The max_iter was reached which means the coef_ did not converge\n",
      "  \"the coef_ did not converge\", ConvergenceWarning)\n",
      "C:\\Users\\lenovo\\AppData\\Local\\Continuum\\anaconda3\\lib\\site-packages\\sklearn\\linear_model\\_sag.py:330: ConvergenceWarning: The max_iter was reached which means the coef_ did not converge\n",
      "  \"the coef_ did not converge\", ConvergenceWarning)\n",
      "C:\\Users\\lenovo\\AppData\\Local\\Continuum\\anaconda3\\lib\\site-packages\\sklearn\\linear_model\\_sag.py:330: ConvergenceWarning: The max_iter was reached which means the coef_ did not converge\n",
      "  \"the coef_ did not converge\", ConvergenceWarning)\n",
      "C:\\Users\\lenovo\\AppData\\Local\\Continuum\\anaconda3\\lib\\site-packages\\sklearn\\linear_model\\_sag.py:330: ConvergenceWarning: The max_iter was reached which means the coef_ did not converge\n",
      "  \"the coef_ did not converge\", ConvergenceWarning)\n",
      "C:\\Users\\lenovo\\AppData\\Local\\Continuum\\anaconda3\\lib\\site-packages\\sklearn\\linear_model\\_sag.py:330: ConvergenceWarning: The max_iter was reached which means the coef_ did not converge\n",
      "  \"the coef_ did not converge\", ConvergenceWarning)\n",
      "C:\\Users\\lenovo\\AppData\\Local\\Continuum\\anaconda3\\lib\\site-packages\\sklearn\\linear_model\\_sag.py:330: ConvergenceWarning: The max_iter was reached which means the coef_ did not converge\n",
      "  \"the coef_ did not converge\", ConvergenceWarning)\n",
      "C:\\Users\\lenovo\\AppData\\Local\\Continuum\\anaconda3\\lib\\site-packages\\sklearn\\linear_model\\_sag.py:330: ConvergenceWarning: The max_iter was reached which means the coef_ did not converge\n",
      "  \"the coef_ did not converge\", ConvergenceWarning)\n",
      "C:\\Users\\lenovo\\AppData\\Local\\Continuum\\anaconda3\\lib\\site-packages\\sklearn\\linear_model\\_sag.py:330: ConvergenceWarning: The max_iter was reached which means the coef_ did not converge\n",
      "  \"the coef_ did not converge\", ConvergenceWarning)\n",
      "C:\\Users\\lenovo\\AppData\\Local\\Continuum\\anaconda3\\lib\\site-packages\\sklearn\\linear_model\\_sag.py:330: ConvergenceWarning: The max_iter was reached which means the coef_ did not converge\n",
      "  \"the coef_ did not converge\", ConvergenceWarning)\n",
      "C:\\Users\\lenovo\\AppData\\Local\\Continuum\\anaconda3\\lib\\site-packages\\sklearn\\linear_model\\_logistic.py:764: ConvergenceWarning: lbfgs failed to converge (status=1):\n",
      "STOP: TOTAL NO. of ITERATIONS REACHED LIMIT.\n",
      "\n",
      "Increase the number of iterations (max_iter) or scale the data as shown in:\n",
      "    https://scikit-learn.org/stable/modules/preprocessing.html\n",
      "Please also refer to the documentation for alternative solver options:\n",
      "    https://scikit-learn.org/stable/modules/linear_model.html#logistic-regression\n",
      "  extra_warning_msg=_LOGISTIC_SOLVER_CONVERGENCE_MSG)\n",
      "C:\\Users\\lenovo\\AppData\\Local\\Continuum\\anaconda3\\lib\\site-packages\\sklearn\\linear_model\\_logistic.py:764: ConvergenceWarning: lbfgs failed to converge (status=1):\n",
      "STOP: TOTAL NO. of ITERATIONS REACHED LIMIT.\n",
      "\n",
      "Increase the number of iterations (max_iter) or scale the data as shown in:\n",
      "    https://scikit-learn.org/stable/modules/preprocessing.html\n",
      "Please also refer to the documentation for alternative solver options:\n",
      "    https://scikit-learn.org/stable/modules/linear_model.html#logistic-regression\n",
      "  extra_warning_msg=_LOGISTIC_SOLVER_CONVERGENCE_MSG)\n",
      "C:\\Users\\lenovo\\AppData\\Local\\Continuum\\anaconda3\\lib\\site-packages\\sklearn\\linear_model\\_sag.py:330: ConvergenceWarning: The max_iter was reached which means the coef_ did not converge\n",
      "  \"the coef_ did not converge\", ConvergenceWarning)\n",
      "C:\\Users\\lenovo\\AppData\\Local\\Continuum\\anaconda3\\lib\\site-packages\\sklearn\\linear_model\\_sag.py:330: ConvergenceWarning: The max_iter was reached which means the coef_ did not converge\n",
      "  \"the coef_ did not converge\", ConvergenceWarning)\n",
      "C:\\Users\\lenovo\\AppData\\Local\\Continuum\\anaconda3\\lib\\site-packages\\sklearn\\linear_model\\_sag.py:330: ConvergenceWarning: The max_iter was reached which means the coef_ did not converge\n",
      "  \"the coef_ did not converge\", ConvergenceWarning)\n",
      "C:\\Users\\lenovo\\AppData\\Local\\Continuum\\anaconda3\\lib\\site-packages\\sklearn\\linear_model\\_sag.py:330: ConvergenceWarning: The max_iter was reached which means the coef_ did not converge\n",
      "  \"the coef_ did not converge\", ConvergenceWarning)\n",
      "C:\\Users\\lenovo\\AppData\\Local\\Continuum\\anaconda3\\lib\\site-packages\\sklearn\\linear_model\\_sag.py:330: ConvergenceWarning: The max_iter was reached which means the coef_ did not converge\n",
      "  \"the coef_ did not converge\", ConvergenceWarning)\n",
      "C:\\Users\\lenovo\\AppData\\Local\\Continuum\\anaconda3\\lib\\site-packages\\sklearn\\linear_model\\_sag.py:330: ConvergenceWarning: The max_iter was reached which means the coef_ did not converge\n",
      "  \"the coef_ did not converge\", ConvergenceWarning)\n",
      "C:\\Users\\lenovo\\AppData\\Local\\Continuum\\anaconda3\\lib\\site-packages\\sklearn\\linear_model\\_sag.py:330: ConvergenceWarning: The max_iter was reached which means the coef_ did not converge\n",
      "  \"the coef_ did not converge\", ConvergenceWarning)\n",
      "C:\\Users\\lenovo\\AppData\\Local\\Continuum\\anaconda3\\lib\\site-packages\\sklearn\\linear_model\\_sag.py:330: ConvergenceWarning: The max_iter was reached which means the coef_ did not converge\n",
      "  \"the coef_ did not converge\", ConvergenceWarning)\n",
      "C:\\Users\\lenovo\\AppData\\Local\\Continuum\\anaconda3\\lib\\site-packages\\sklearn\\linear_model\\_sag.py:330: ConvergenceWarning: The max_iter was reached which means the coef_ did not converge\n",
      "  \"the coef_ did not converge\", ConvergenceWarning)\n",
      "C:\\Users\\lenovo\\AppData\\Local\\Continuum\\anaconda3\\lib\\site-packages\\sklearn\\linear_model\\_sag.py:330: ConvergenceWarning: The max_iter was reached which means the coef_ did not converge\n",
      "  \"the coef_ did not converge\", ConvergenceWarning)\n"
     ]
    },
    {
     "data": {
      "text/plain": [
       "GridSearchCV(cv=5, estimator=LogisticRegression(),\n",
       "             param_grid={'C': [0.001, 0.01, 0.1, 0.5, 0.15, 1, 10, 5, 100],\n",
       "                         'solver': ['newton-cg', 'lbfgs', 'liblinear', 'sag',\n",
       "                                    'saga']})"
      ]
     },
     "execution_count": 106,
     "metadata": {},
     "output_type": "execute_result"
    }
   ],
   "source": [
    "lr=LogisticRegression()\n",
    "param_grid = {\n",
    "              \"C\": [0.001,0.01,0.1,0.5,0.15,1,10,5,100],\n",
    "              \"solver\": ['newton-cg','lbfgs','liblinear','sag','saga'],\n",
    "              }\n",
    "\n",
    "CV_lr = GridSearchCV(estimator=lr, param_grid=param_grid, cv= 5)\n",
    "CV_lr.fit(X_train, y_train)\n",
    "\n"
   ]
  },
  {
   "cell_type": "code",
   "execution_count": 111,
   "metadata": {},
   "outputs": [
    {
     "name": "stdout",
     "output_type": "stream",
     "text": [
      "Best Parameters:\n",
      "{'C': 10, 'solver': 'liblinear'}\n",
      "0.8787499999999999\n"
     ]
    }
   ],
   "source": [
    "print(\"Best Parameters:\")\n",
    "print(CV_lr.best_params_)\n",
    "print(CV_lr.best_score_)"
   ]
  },
  {
   "cell_type": "code",
   "execution_count": 112,
   "metadata": {},
   "outputs": [],
   "source": [
    "lr_predictions=CV_lr.predict(X_test)"
   ]
  },
  {
   "cell_type": "code",
   "execution_count": 113,
   "metadata": {},
   "outputs": [
    {
     "name": "stdout",
     "output_type": "stream",
     "text": [
      "[[161   6]\n",
      " [ 17  16]]\n",
      "              precision    recall  f1-score   support\n",
      "\n",
      "         0.0       0.90      0.96      0.93       167\n",
      "         1.0       0.73      0.48      0.58        33\n",
      "\n",
      "    accuracy                           0.89       200\n",
      "   macro avg       0.82      0.72      0.76       200\n",
      "weighted avg       0.88      0.89      0.88       200\n",
      "\n"
     ]
    }
   ],
   "source": [
    "print(confusion_matrix(y_test,lr_predictions))\n",
    "\n",
    "\n",
    "print(classification_report(y_test,lr_predictions))"
   ]
  },
  {
   "cell_type": "code",
   "execution_count": 114,
   "metadata": {},
   "outputs": [],
   "source": [
    "metrics_value=precision_recall_fscore_support(y_test, lr_predictions, average=None,labels=[0,1])\n",
    "recall_for_class_1_logistic_regression=metrics_value[1][1]\n"
   ]
  },
  {
   "cell_type": "code",
   "execution_count": 122,
   "metadata": {},
   "outputs": [
    {
     "name": "stdout",
     "output_type": "stream",
     "text": [
      "0.89\n"
     ]
    },
    {
     "name": "stderr",
     "output_type": "stream",
     "text": [
      "C:\\Users\\lenovo\\AppData\\Local\\Continuum\\anaconda3\\lib\\site-packages\\sklearn\\utils\\deprecation.py:86: FutureWarning: Function plot_roc_curve is deprecated; This will be removed in v0.5.0. Please use scikitplot.metrics.plot_roc instead.\n",
      "  warnings.warn(msg, category=FutureWarning)\n"
     ]
    },
    {
     "data": {
      "text/plain": [
       "<matplotlib.axes._subplots.AxesSubplot at 0x193a17426c8>"
      ]
     },
     "execution_count": 122,
     "metadata": {},
     "output_type": "execute_result"
    },
    {
     "data": {
      "image/png": "[encoded data removed]",
      "text/plain": [
       "<Figure size 432x288 with 1 Axes>"
      ]
     },
     "metadata": {
      "needs_background": "light"
     },
     "output_type": "display_data"
    }
   ],
   "source": [
    "auc_lr=round(roc_auc_score(y_test,CV_lr.predict_log_proba(X_test)[:,1]),2)\n",
    "print(auc_lr)\n",
    "skplt.metrics.plot_roc_curve(y_test, CV_lr.predict_proba(X_test))"
   ]
  },
  {
   "cell_type": "code",
   "execution_count": null,
   "metadata": {},
   "outputs": [],
   "source": []
  },
  {
   "cell_type": "markdown",
   "metadata": {},
   "source": [
    "## SVC"
   ]
  },
  {
   "cell_type": "code",
   "execution_count": 123,
   "metadata": {},
   "outputs": [
    {
     "data": {
      "text/plain": [
       "GridSearchCV(cv=6, estimator=SVC(probability=True),\n",
       "             param_grid={'C': [0.001, 0.01, 0.1, 0.5, 0.15, 1, 10],\n",
       "                         'gamma': [0.001, 0.01, 0.1, 1],\n",
       "                         'kernel': ['linear', 'poly', 'rbf', 'sigmoid']})"
      ]
     },
     "execution_count": 123,
     "metadata": {},
     "output_type": "execute_result"
    }
   ],
   "source": [
    "svc_model=SVC(probability=True)\n",
    "\n",
    "\n",
    "param_grid = {\n",
    "            \"kernel\":['linear','poly','rbf','sigmoid'],\n",
    "             'gamma' :[0.001, 0.01, 0.1, 1],\n",
    "              \"C\": [0.001,0.01,0.1,0.5,0.15,1,10]\n",
    "              }\n",
    "\n",
    "CV_svc = GridSearchCV(estimator=svc_model, param_grid=param_grid, cv= 6)\n",
    "CV_svc.fit(X_train, y_train)\n"
   ]
  },
  {
   "cell_type": "code",
   "execution_count": 124,
   "metadata": {},
   "outputs": [
    {
     "name": "stdout",
     "output_type": "stream",
     "text": [
      "{'C': 10, 'gamma': 0.001, 'kernel': 'linear'}\n",
      "0.876182994800434\n"
     ]
    }
   ],
   "source": [
    "print(CV_svc.best_params_)\n",
    "print(CV_svc.best_score_)"
   ]
  },
  {
   "cell_type": "code",
   "execution_count": 125,
   "metadata": {},
   "outputs": [],
   "source": [
    "predictions_svc=CV_svc.predict(X_test)"
   ]
  },
  {
   "cell_type": "code",
   "execution_count": 126,
   "metadata": {
    "scrolled": true
   },
   "outputs": [
    {
     "name": "stdout",
     "output_type": "stream",
     "text": [
      "[[162   5]\n",
      " [ 16  17]]\n",
      "              precision    recall  f1-score   support\n",
      "\n",
      "         0.0       0.91      0.97      0.94       167\n",
      "         1.0       0.77      0.52      0.62        33\n",
      "\n",
      "    accuracy                           0.90       200\n",
      "   macro avg       0.84      0.74      0.78       200\n",
      "weighted avg       0.89      0.90      0.89       200\n",
      "\n"
     ]
    }
   ],
   "source": [
    "print(confusion_matrix(y_test,predictions_svc))\n",
    "\n",
    "\n",
    "print(classification_report(y_test,predictions_svc))"
   ]
  },
  {
   "cell_type": "code",
   "execution_count": 127,
   "metadata": {},
   "outputs": [
    {
     "data": {
      "text/plain": [
       "0.91"
      ]
     },
     "execution_count": 127,
     "metadata": {},
     "output_type": "execute_result"
    }
   ],
   "source": [
    "metrics_value=precision_recall_fscore_support(y_test, predictions_svc, average=None,labels=[0,1])\n",
    "recall_for_class_1_SVC=round(metrics_value[1][1],2)\n",
    "auc_svc=round(roc_auc_score(y_test,CV_svc.predict_log_proba(X_test)[:,1]),2)\n",
    "auc_svc"
   ]
  },
  {
   "cell_type": "code",
   "execution_count": 128,
   "metadata": {},
   "outputs": [
    {
     "name": "stderr",
     "output_type": "stream",
     "text": [
      "C:\\Users\\lenovo\\AppData\\Local\\Continuum\\anaconda3\\lib\\site-packages\\sklearn\\utils\\deprecation.py:86: FutureWarning: Function plot_roc_curve is deprecated; This will be removed in v0.5.0. Please use scikitplot.metrics.plot_roc instead.\n",
      "  warnings.warn(msg, category=FutureWarning)\n"
     ]
    },
    {
     "data": {
      "text/plain": [
       "<matplotlib.axes._subplots.AxesSubplot at 0x193a17bcb08>"
      ]
     },
     "execution_count": 128,
     "metadata": {},
     "output_type": "execute_result"
    },
    {
     "data": {
      "image/png": "[encoded data removed]",
      "text/plain": [
       "<Figure size 432x288 with 1 Axes>"
      ]
     },
     "metadata": {
      "needs_background": "light"
     },
     "output_type": "display_data"
    }
   ],
   "source": [
    "skplt.metrics.plot_roc_curve(y_test, CV_svc.predict_proba(X_test))"
   ]
  },
  {
   "cell_type": "markdown",
   "metadata": {},
   "source": [
    "## Naive Bayes"
   ]
  },
  {
   "cell_type": "code",
   "execution_count": 133,
   "metadata": {
    "scrolled": true
   },
   "outputs": [
    {
     "name": "stdout",
     "output_type": "stream",
     "text": [
      "[[132  35]\n",
      " [  9  24]]\n",
      "              precision    recall  f1-score   support\n",
      "\n",
      "         0.0       0.94      0.79      0.86       167\n",
      "         1.0       0.41      0.73      0.52        33\n",
      "\n",
      "    accuracy                           0.78       200\n",
      "   macro avg       0.67      0.76      0.69       200\n",
      "weighted avg       0.85      0.78      0.80       200\n",
      "\n"
     ]
    }
   ],
   "source": [
    "gb=GaussianNB()\n",
    "gb.fit(X_train,y_train)\n",
    "predictions_gb=gb.predict(X_test)\n",
    "print(confusion_matrix(y_test,predictions_gb))\n",
    "\n",
    "\n",
    "print(classification_report(y_test,predictions_gb))"
   ]
  },
  {
   "cell_type": "code",
   "execution_count": 136,
   "metadata": {},
   "outputs": [
    {
     "name": "stdout",
     "output_type": "stream",
     "text": [
      "0.73\n"
     ]
    }
   ],
   "source": [
    "metrics_value=precision_recall_fscore_support(y_test, predictions_gb, average=None,labels=[0,1])\n",
    "recall_for_class_1_NaiveBayes=round(metrics_value[1][1],2)\n",
    "print(recall_for_class_1_NaiveBayes)\n"
   ]
  },
  {
   "cell_type": "code",
   "execution_count": 138,
   "metadata": {},
   "outputs": [
    {
     "name": "stdout",
     "output_type": "stream",
     "text": [
      "AUC score 0.83\n"
     ]
    },
    {
     "name": "stderr",
     "output_type": "stream",
     "text": [
      "C:\\Users\\lenovo\\AppData\\Local\\Continuum\\anaconda3\\lib\\site-packages\\sklearn\\utils\\deprecation.py:86: FutureWarning: Function plot_roc_curve is deprecated; This will be removed in v0.5.0. Please use scikitplot.metrics.plot_roc instead.\n",
      "  warnings.warn(msg, category=FutureWarning)\n"
     ]
    },
    {
     "data": {
      "text/plain": [
       "<matplotlib.axes._subplots.AxesSubplot at 0x193a199b648>"
      ]
     },
     "execution_count": 138,
     "metadata": {},
     "output_type": "execute_result"
    },
    {
     "data": {
      "image/png": "[encoded data removed]",
      "text/plain": [
       "<Figure size 432x288 with 1 Axes>"
      ]
     },
     "metadata": {
      "needs_background": "light"
     },
     "output_type": "display_data"
    }
   ],
   "source": [
    "auc_naivebayes=round(roc_auc_score(y_test,gb.predict_log_proba(X_test)[:,1]),2)\n",
    "print('AUC score {}'.format(auc_naivebayes))\n",
    "skplt.metrics.plot_roc_curve(y_test, gb.predict_proba(X_test))"
   ]
  },
  {
   "cell_type": "code",
   "execution_count": null,
   "metadata": {},
   "outputs": [],
   "source": []
  },
  {
   "cell_type": "markdown",
   "metadata": {},
   "source": [
    "## Decision Tree"
   ]
  },
  {
   "cell_type": "code",
   "execution_count": 143,
   "metadata": {},
   "outputs": [
    {
     "name": "stdout",
     "output_type": "stream",
     "text": [
      "Best Parameters:\n",
      "{'min_samples_split': 20, 'min_samples_leaf': 24, 'max_leaf_nodes': 7, 'max_depth': 3, 'criterion': 'gini'}\n",
      "0.8449668948490628\n"
     ]
    }
   ],
   "source": [
    "dtree=DecisionTreeClassifier(random_state=42)\n",
    "param_grid = {\"criterion\": [\"gini\", \"entropy\"],\n",
    "              \"min_samples_split\": [10, 20, 40],\n",
    "              \"max_depth\": range(1,20),\n",
    "              \"min_samples_leaf\": range(2,40),\n",
    "              \"max_leaf_nodes\": range(2,20),\n",
    "              }\n",
    "\n",
    "CV_dtree = RandomizedSearchCV(estimator=dtree, param_distributions=param_grid, cv= 6)\n",
    "CV_dtree.fit(X_train, y_train)\n",
    "\n",
    "print(\"Best Parameters:\")\n",
    "print(CV_dtree.best_params_)\n",
    "print(CV_dtree.best_score_)\n"
   ]
  },
  {
   "cell_type": "code",
   "execution_count": 147,
   "metadata": {},
   "outputs": [],
   "source": [
    "final_dtree_model=DecisionTreeClassifier(min_samples_split= 20, min_samples_leaf=24, max_leaf_nodes= 7, max_depth=3,criterion='entropy')\n",
    "final_dtree_model.fit(X_train,y_train)\n",
    "pred_dtree=final_dtree_model.predict(X_test)"
   ]
  },
  {
   "cell_type": "code",
   "execution_count": 148,
   "metadata": {
    "scrolled": true
   },
   "outputs": [
    {
     "name": "stdout",
     "output_type": "stream",
     "text": [
      "[[164   3]\n",
      " [ 30   3]]\n",
      "              precision    recall  f1-score   support\n",
      "\n",
      "         0.0       0.85      0.98      0.91       167\n",
      "         1.0       0.50      0.09      0.15        33\n",
      "\n",
      "    accuracy                           0.83       200\n",
      "   macro avg       0.67      0.54      0.53       200\n",
      "weighted avg       0.79      0.83      0.78       200\n",
      "\n"
     ]
    }
   ],
   "source": [
    "print(confusion_matrix(y_test,pred_dtree))\n",
    "\n",
    "print(classification_report(y_test,pred_dtree))"
   ]
  },
  {
   "cell_type": "code",
   "execution_count": 149,
   "metadata": {},
   "outputs": [],
   "source": [
    "metrics_value=precision_recall_fscore_support(y_test, pred_dtree, average=None,labels=[0,1])\n",
    "recall_for_class_1_DecisionTree=round(metrics_value[1][1],2)\n"
   ]
  },
  {
   "cell_type": "code",
   "execution_count": 150,
   "metadata": {},
   "outputs": [
    {
     "name": "stdout",
     "output_type": "stream",
     "text": [
      "AUC score 0.77\n"
     ]
    },
    {
     "name": "stderr",
     "output_type": "stream",
     "text": [
      "C:\\Users\\lenovo\\AppData\\Local\\Continuum\\anaconda3\\lib\\site-packages\\sklearn\\utils\\deprecation.py:86: FutureWarning: Function plot_roc_curve is deprecated; This will be removed in v0.5.0. Please use scikitplot.metrics.plot_roc instead.\n",
      "  warnings.warn(msg, category=FutureWarning)\n"
     ]
    },
    {
     "data": {
      "text/plain": [
       "<matplotlib.axes._subplots.AxesSubplot at 0x193a1a792c8>"
      ]
     },
     "execution_count": 150,
     "metadata": {},
     "output_type": "execute_result"
    },
    {
     "data": {
      "image/png": "[encoded data removed]",
      "text/plain": [
       "<Figure size 432x288 with 1 Axes>"
      ]
     },
     "metadata": {
      "needs_background": "light"
     },
     "output_type": "display_data"
    }
   ],
   "source": [
    "auc_dtree=round(roc_auc_score(y_test,final_dtree_model.predict_log_proba(X_test)[:,1]),2)\n",
    "print('AUC score {}'.format(auc_dtree))\n",
    "skplt.metrics.plot_roc_curve(y_test, final_dtree_model.predict_proba(X_test))"
   ]
  },
  {
   "cell_type": "markdown",
   "metadata": {},
   "source": [
    "## RandomForest Classifier"
   ]
  },
  {
   "cell_type": "code",
   "execution_count": 151,
   "metadata": {},
   "outputs": [
    {
     "name": "stdout",
     "output_type": "stream",
     "text": [
      "Best Parameters:\n",
      "{'n_estimators': 200, 'min_samples_leaf': 5, 'max_leaf_nodes': 15, 'max_features': 'auto', 'max_depth': 10, 'criterion': 'gini'}\n",
      "0.8512419107470167\n"
     ]
    }
   ],
   "source": [
    "RF_model=RandomForestClassifier(random_state=42)\n",
    "param_grid = { \n",
    "    'n_estimators': [20,30,40,50,100,125,150,175,200,225,250,275],\n",
    "    'max_depth' : range(2,20),\n",
    "    'criterion':[\"gini\",\"entropy\"],\n",
    "    \"min_samples_leaf\": range(1,20),\n",
    "    \"max_leaf_nodes\": range(2,20),\n",
    "    'max_features':[\"auto\", \"sqrt\", \"log2\"]\n",
    "}\n",
    "\n",
    "CV_rfc = RandomizedSearchCV(estimator=RF_model, param_distributions=param_grid, cv= 6,)\n",
    "CV_rfc.fit(X_train, y_train)\n",
    "\n",
    "print(\"Best Parameters:\")\n",
    "print(CV_rfc.best_params_)\n",
    "print(CV_rfc.best_score_)\n"
   ]
  },
  {
   "cell_type": "code",
   "execution_count": 152,
   "metadata": {},
   "outputs": [],
   "source": [
    "rc_predictions=CV_rfc.predict(X_test)"
   ]
  },
  {
   "cell_type": "code",
   "execution_count": 154,
   "metadata": {},
   "outputs": [
    {
     "name": "stdout",
     "output_type": "stream",
     "text": [
      "[[167   0]\n",
      " [ 33   0]]\n",
      "              precision    recall  f1-score   support\n",
      "\n",
      "         0.0       0.83      1.00      0.91       167\n",
      "         1.0       0.00      0.00      0.00        33\n",
      "\n",
      "    accuracy                           0.83       200\n",
      "   macro avg       0.42      0.50      0.46       200\n",
      "weighted avg       0.70      0.83      0.76       200\n",
      "\n"
     ]
    }
   ],
   "source": [
    "print(confusion_matrix(y_test,rc_predictions))\n",
    "\n",
    "print(classification_report(y_test,rc_predictions))"
   ]
  },
  {
   "cell_type": "code",
   "execution_count": 155,
   "metadata": {},
   "outputs": [
    {
     "name": "stdout",
     "output_type": "stream",
     "text": [
      "AUC score 0.85\n"
     ]
    },
    {
     "name": "stderr",
     "output_type": "stream",
     "text": [
      "C:\\Users\\lenovo\\AppData\\Local\\Continuum\\anaconda3\\lib\\site-packages\\sklearn\\utils\\deprecation.py:86: FutureWarning: Function plot_roc_curve is deprecated; This will be removed in v0.5.0. Please use scikitplot.metrics.plot_roc instead.\n",
      "  warnings.warn(msg, category=FutureWarning)\n"
     ]
    },
    {
     "data": {
      "text/plain": [
       "<matplotlib.axes._subplots.AxesSubplot at 0x193a1b20cc8>"
      ]
     },
     "execution_count": 155,
     "metadata": {},
     "output_type": "execute_result"
    },
    {
     "data": {
      "image/png": "[encoded data removed]",
      "text/plain": [
       "<Figure size 432x288 with 1 Axes>"
      ]
     },
     "metadata": {
      "needs_background": "light"
     },
     "output_type": "display_data"
    }
   ],
   "source": [
    "metrics_value=precision_recall_fscore_support(y_test, rc_predictions, average=None,labels=[0,1])\n",
    "recall_for_class_1_RandomForest=round(metrics_value[1][1],2)\n",
    "\n",
    "\n",
    "auc_randomforest=round(roc_auc_score(y_test,CV_rfc.predict_log_proba(X_test)[:,1]),2)\n",
    "print('AUC score {}'.format(auc_randomforest))\n",
    "skplt.metrics.plot_roc_curve(y_test, CV_rfc.predict_proba(X_test))"
   ]
  },
  {
   "cell_type": "markdown",
   "metadata": {},
   "source": [
    "## GradientBoosting"
   ]
  },
  {
   "cell_type": "code",
   "execution_count": 161,
   "metadata": {},
   "outputs": [
    {
     "name": "stdout",
     "output_type": "stream",
     "text": [
      "Best Parameters:\n",
      "{'n_estimators': 175, 'min_samples_split': 13, 'max_leaf_nodes': 17, 'max_depth': 12, 'learning_rate': 0.05, 'criterion': 'mse'}\n",
      "0.8574701679572065\n"
     ]
    }
   ],
   "source": [
    "from sklearn.ensemble import GradientBoostingClassifier\n",
    "\n",
    "\n",
    "gradient_boosting=GradientBoostingClassifier(random_state=42)\n",
    "\n",
    "param_grid = { \n",
    "    'learning_rate':[0.15,0.1,0.05,0.01,0.001],\n",
    "    'n_estimators':[20,30,40,50,75,100,125,150,175,157,200,225,250,275,300,325,350],\n",
    "    'max_depth' : range(2,20),\n",
    "    \"max_leaf_nodes\": range(2,20),\n",
    "    'min_samples_split':range(2,15),\n",
    "    'criterion':['friedman_mse','mse', 'mae']\n",
    "    \n",
    "}\n",
    "\n",
    "CV_gdb = RandomizedSearchCV(estimator=gradient_boosting,param_distributions=param_grid, cv= 6)\n",
    "CV_gdb.fit(X_train, y_train)\n",
    "\n",
    "print(\"Best Parameters:\")\n",
    "print(CV_gdb.best_params_)\n",
    "print(CV_gdb.best_score_)\n"
   ]
  },
  {
   "cell_type": "code",
   "execution_count": 163,
   "metadata": {},
   "outputs": [
    {
     "name": "stdout",
     "output_type": "stream",
     "text": [
      "[[160   7]\n",
      " [ 24   9]]\n",
      "              precision    recall  f1-score   support\n",
      "\n",
      "         0.0       0.87      0.96      0.91       167\n",
      "         1.0       0.56      0.27      0.37        33\n",
      "\n",
      "    accuracy                           0.84       200\n",
      "   macro avg       0.72      0.62      0.64       200\n",
      "weighted avg       0.82      0.84      0.82       200\n",
      "\n"
     ]
    }
   ],
   "source": [
    "gdb_prediction=CV_gdb.predict(X_test)\n",
    "\n",
    "print(confusion_matrix(y_test,gdb_prediction))\n",
    "\n",
    "print(classification_report(y_test,gdb_prediction))"
   ]
  },
  {
   "cell_type": "code",
   "execution_count": 166,
   "metadata": {},
   "outputs": [
    {
     "name": "stdout",
     "output_type": "stream",
     "text": [
      "AUC score 0.76\n"
     ]
    },
    {
     "name": "stderr",
     "output_type": "stream",
     "text": [
      "C:\\Users\\lenovo\\AppData\\Local\\Continuum\\anaconda3\\lib\\site-packages\\sklearn\\utils\\deprecation.py:86: FutureWarning: Function plot_roc_curve is deprecated; This will be removed in v0.5.0. Please use scikitplot.metrics.plot_roc instead.\n",
      "  warnings.warn(msg, category=FutureWarning)\n"
     ]
    },
    {
     "data": {
      "text/plain": [
       "<matplotlib.axes._subplots.AxesSubplot at 0x193a1c18708>"
      ]
     },
     "execution_count": 166,
     "metadata": {},
     "output_type": "execute_result"
    },
    {
     "data": {
      "image/png": "[encoded data removed]",
      "text/plain": [
       "<Figure size 432x288 with 1 Axes>"
      ]
     },
     "metadata": {
      "needs_background": "light"
     },
     "output_type": "display_data"
    }
   ],
   "source": [
    "metrics_value=precision_recall_fscore_support(y_test, gdb_prediction, average=None,labels=[0,1])\n",
    "recall_for_class_1_GradientBoosting=round(metrics_value[1][1],2)\n",
    "\n",
    "\n",
    "auc_gradientboosting=round(roc_auc_score(y_test,CV_gdb.predict_log_proba(X_test)[:,1]),2)\n",
    "print('AUC score {}'.format(auc_gradientboosting))\n",
    "skplt.metrics.plot_roc_curve(y_test, CV_gdb.predict_proba(X_test))\n"
   ]
  },
  {
   "cell_type": "markdown",
   "metadata": {},
   "source": [
    "## Bagging Classifier"
   ]
  },
  {
   "cell_type": "code",
   "execution_count": 244,
   "metadata": {},
   "outputs": [
    {
     "name": "stdout",
     "output_type": "stream",
     "text": [
      "Best Parameters:\n",
      "{'n_estimators': 17}\n",
      "0.7686193094676991\n",
      "[[138  29]\n",
      " [  9  24]]\n",
      "              precision    recall  f1-score   support\n",
      "\n",
      "         0.0       0.94      0.83      0.88       167\n",
      "         1.0       0.45      0.73      0.56        33\n",
      "\n",
      "    accuracy                           0.81       200\n",
      "   macro avg       0.70      0.78      0.72       200\n",
      "weighted avg       0.86      0.81      0.83       200\n",
      "\n"
     ]
    }
   ],
   "source": [
    "from sklearn.ensemble import BaggingClassifier\n",
    "bgc=BaggingClassifier(base_estimator=gb)\n",
    "param_grid={\n",
    "    'n_estimators': range(10,100)\n",
    "}\n",
    "\n",
    "CV_bgc = RandomizedSearchCV(estimator=bgc,param_distributions=param_grid, cv= 6)\n",
    "CV_bgc.fit(X_train, y_train)\n",
    "\n",
    "print(\"Best Parameters:\")\n",
    "print(CV_bgc.best_params_)\n",
    "print(CV_bgc.best_score_)\n",
    "\n",
    "\n",
    "#bgr.fit(X_train,y_train)\n",
    "bgr_pred=CV_bgc.predict(X_test)\n",
    "print(confusion_matrix(y_test,bgr_pred))\n",
    "\n",
    "print(classification_report(y_test,bgr_pred))"
   ]
  },
  {
   "cell_type": "code",
   "execution_count": 253,
   "metadata": {},
   "outputs": [
    {
     "name": "stdout",
     "output_type": "stream",
     "text": [
      "AUC score 0.85\n"
     ]
    },
    {
     "name": "stderr",
     "output_type": "stream",
     "text": [
      "C:\\Users\\lenovo\\AppData\\Local\\Continuum\\anaconda3\\lib\\site-packages\\sklearn\\utils\\deprecation.py:86: FutureWarning: Function plot_roc_curve is deprecated; This will be removed in v0.5.0. Please use scikitplot.metrics.plot_roc instead.\n",
      "  warnings.warn(msg, category=FutureWarning)\n"
     ]
    },
    {
     "data": {
      "text/plain": [
       "<matplotlib.axes._subplots.AxesSubplot at 0x193a3b4ad88>"
      ]
     },
     "execution_count": 253,
     "metadata": {},
     "output_type": "execute_result"
    },
    {
     "data": {
      "image/png": "[encoded data removed]",
      "text/plain": [
       "<Figure size 432x288 with 1 Axes>"
      ]
     },
     "metadata": {
      "needs_background": "light"
     },
     "output_type": "display_data"
    }
   ],
   "source": [
    "metrics_value=precision_recall_fscore_support(y_test, bgr_pred, average=None,labels=[0,1])\n",
    "recall_for_class_1_bagging_classifier=round(metrics_value[1][1],2)\n",
    "\n",
    "\n",
    "auc_bagging_classifier=round(roc_auc_score(y_test,CV_bgc.predict_log_proba(X_test)[:,1]),2)\n",
    "print('AUC score {}'.format(auc_bagging_classifier))\n",
    "skplt.metrics.plot_roc_curve(y_test, CV_bgc.predict_proba(X_test))\n"
   ]
  },
  {
   "cell_type": "code",
   "execution_count": 297,
   "metadata": {},
   "outputs": [],
   "source": [
    "from sklearn.ensemble import AdaBoostClassifier"
   ]
  },
  {
   "cell_type": "code",
   "execution_count": 322,
   "metadata": {},
   "outputs": [
    {
     "name": "stderr",
     "output_type": "stream",
     "text": [
      "C:\\Users\\lenovo\\AppData\\Local\\Continuum\\anaconda3\\lib\\site-packages\\sklearn\\model_selection\\_validation.py:552: FitFailedWarning: Estimator fit failed. The score on this train-test partition for these parameters will be set to nan. Details: \n",
      "Traceback (most recent call last):\n",
      "  File \"C:\\Users\\lenovo\\AppData\\Local\\Continuum\\anaconda3\\lib\\site-packages\\sklearn\\model_selection\\_validation.py\", line 531, in _fit_and_score\n",
      "    estimator.fit(X_train, y_train, **fit_params)\n",
      "  File \"C:\\Users\\lenovo\\AppData\\Local\\Continuum\\anaconda3\\lib\\site-packages\\sklearn\\ensemble\\_weight_boosting.py\", line 443, in fit\n",
      "    return super().fit(X, y, sample_weight)\n",
      "  File \"C:\\Users\\lenovo\\AppData\\Local\\Continuum\\anaconda3\\lib\\site-packages\\sklearn\\ensemble\\_weight_boosting.py\", line 134, in fit\n",
      "    random_state)\n",
      "  File \"C:\\Users\\lenovo\\AppData\\Local\\Continuum\\anaconda3\\lib\\site-packages\\sklearn\\ensemble\\_weight_boosting.py\", line 503, in _boost\n",
      "    return self._boost_real(iboost, X, y, sample_weight, random_state)\n",
      "  File \"C:\\Users\\lenovo\\AppData\\Local\\Continuum\\anaconda3\\lib\\site-packages\\sklearn\\ensemble\\_weight_boosting.py\", line 513, in _boost_real\n",
      "    estimator.fit(X, y, sample_weight=sample_weight)\n",
      "  File \"C:\\Users\\lenovo\\AppData\\Local\\Continuum\\anaconda3\\lib\\site-packages\\sklearn\\naive_bayes.py\", line 213, in fit\n",
      "    sample_weight=sample_weight)\n",
      "  File \"C:\\Users\\lenovo\\AppData\\Local\\Continuum\\anaconda3\\lib\\site-packages\\sklearn\\naive_bayes.py\", line 436, in _partial_fit\n",
      "    X_i, sw_i)\n",
      "  File \"C:\\Users\\lenovo\\AppData\\Local\\Continuum\\anaconda3\\lib\\site-packages\\sklearn\\naive_bayes.py\", line 264, in _update_mean_variance\n",
      "    new_mu = np.average(X, axis=0, weights=sample_weight)\n",
      "  File \"C:\\Users\\lenovo\\AppData\\Local\\Continuum\\anaconda3\\lib\\site-packages\\numpy\\lib\\function_base.py\", line 422, in average\n",
      "    \"Weights sum to zero, can't be normalized\")\n",
      "ZeroDivisionError: Weights sum to zero, can't be normalized\n",
      "\n",
      "  FitFailedWarning)\n",
      "C:\\Users\\lenovo\\AppData\\Local\\Continuum\\anaconda3\\lib\\site-packages\\sklearn\\model_selection\\_validation.py:552: FitFailedWarning: Estimator fit failed. The score on this train-test partition for these parameters will be set to nan. Details: \n",
      "Traceback (most recent call last):\n",
      "  File \"C:\\Users\\lenovo\\AppData\\Local\\Continuum\\anaconda3\\lib\\site-packages\\sklearn\\model_selection\\_validation.py\", line 531, in _fit_and_score\n",
      "    estimator.fit(X_train, y_train, **fit_params)\n",
      "  File \"C:\\Users\\lenovo\\AppData\\Local\\Continuum\\anaconda3\\lib\\site-packages\\sklearn\\ensemble\\_weight_boosting.py\", line 443, in fit\n",
      "    return super().fit(X, y, sample_weight)\n",
      "  File \"C:\\Users\\lenovo\\AppData\\Local\\Continuum\\anaconda3\\lib\\site-packages\\sklearn\\ensemble\\_weight_boosting.py\", line 134, in fit\n",
      "    random_state)\n",
      "  File \"C:\\Users\\lenovo\\AppData\\Local\\Continuum\\anaconda3\\lib\\site-packages\\sklearn\\ensemble\\_weight_boosting.py\", line 503, in _boost\n",
      "    return self._boost_real(iboost, X, y, sample_weight, random_state)\n",
      "  File \"C:\\Users\\lenovo\\AppData\\Local\\Continuum\\anaconda3\\lib\\site-packages\\sklearn\\ensemble\\_weight_boosting.py\", line 513, in _boost_real\n",
      "    estimator.fit(X, y, sample_weight=sample_weight)\n",
      "  File \"C:\\Users\\lenovo\\AppData\\Local\\Continuum\\anaconda3\\lib\\site-packages\\sklearn\\naive_bayes.py\", line 213, in fit\n",
      "    sample_weight=sample_weight)\n",
      "  File \"C:\\Users\\lenovo\\AppData\\Local\\Continuum\\anaconda3\\lib\\site-packages\\sklearn\\naive_bayes.py\", line 436, in _partial_fit\n",
      "    X_i, sw_i)\n",
      "  File \"C:\\Users\\lenovo\\AppData\\Local\\Continuum\\anaconda3\\lib\\site-packages\\sklearn\\naive_bayes.py\", line 264, in _update_mean_variance\n",
      "    new_mu = np.average(X, axis=0, weights=sample_weight)\n",
      "  File \"C:\\Users\\lenovo\\AppData\\Local\\Continuum\\anaconda3\\lib\\site-packages\\numpy\\lib\\function_base.py\", line 422, in average\n",
      "    \"Weights sum to zero, can't be normalized\")\n",
      "ZeroDivisionError: Weights sum to zero, can't be normalized\n",
      "\n",
      "  FitFailedWarning)\n",
      "C:\\Users\\lenovo\\AppData\\Local\\Continuum\\anaconda3\\lib\\site-packages\\sklearn\\model_selection\\_validation.py:552: FitFailedWarning: Estimator fit failed. The score on this train-test partition for these parameters will be set to nan. Details: \n",
      "Traceback (most recent call last):\n",
      "  File \"C:\\Users\\lenovo\\AppData\\Local\\Continuum\\anaconda3\\lib\\site-packages\\sklearn\\model_selection\\_validation.py\", line 531, in _fit_and_score\n",
      "    estimator.fit(X_train, y_train, **fit_params)\n",
      "  File \"C:\\Users\\lenovo\\AppData\\Local\\Continuum\\anaconda3\\lib\\site-packages\\sklearn\\ensemble\\_weight_boosting.py\", line 443, in fit\n",
      "    return super().fit(X, y, sample_weight)\n",
      "  File \"C:\\Users\\lenovo\\AppData\\Local\\Continuum\\anaconda3\\lib\\site-packages\\sklearn\\ensemble\\_weight_boosting.py\", line 134, in fit\n",
      "    random_state)\n",
      "  File \"C:\\Users\\lenovo\\AppData\\Local\\Continuum\\anaconda3\\lib\\site-packages\\sklearn\\ensemble\\_weight_boosting.py\", line 503, in _boost\n",
      "    return self._boost_real(iboost, X, y, sample_weight, random_state)\n",
      "  File \"C:\\Users\\lenovo\\AppData\\Local\\Continuum\\anaconda3\\lib\\site-packages\\sklearn\\ensemble\\_weight_boosting.py\", line 513, in _boost_real\n",
      "    estimator.fit(X, y, sample_weight=sample_weight)\n",
      "  File \"C:\\Users\\lenovo\\AppData\\Local\\Continuum\\anaconda3\\lib\\site-packages\\sklearn\\naive_bayes.py\", line 213, in fit\n",
      "    sample_weight=sample_weight)\n",
      "  File \"C:\\Users\\lenovo\\AppData\\Local\\Continuum\\anaconda3\\lib\\site-packages\\sklearn\\naive_bayes.py\", line 436, in _partial_fit\n",
      "    X_i, sw_i)\n",
      "  File \"C:\\Users\\lenovo\\AppData\\Local\\Continuum\\anaconda3\\lib\\site-packages\\sklearn\\naive_bayes.py\", line 264, in _update_mean_variance\n",
      "    new_mu = np.average(X, axis=0, weights=sample_weight)\n",
      "  File \"C:\\Users\\lenovo\\AppData\\Local\\Continuum\\anaconda3\\lib\\site-packages\\numpy\\lib\\function_base.py\", line 422, in average\n",
      "    \"Weights sum to zero, can't be normalized\")\n",
      "ZeroDivisionError: Weights sum to zero, can't be normalized\n",
      "\n",
      "  FitFailedWarning)\n",
      "C:\\Users\\lenovo\\AppData\\Local\\Continuum\\anaconda3\\lib\\site-packages\\sklearn\\model_selection\\_validation.py:552: FitFailedWarning: Estimator fit failed. The score on this train-test partition for these parameters will be set to nan. Details: \n",
      "Traceback (most recent call last):\n",
      "  File \"C:\\Users\\lenovo\\AppData\\Local\\Continuum\\anaconda3\\lib\\site-packages\\sklearn\\model_selection\\_validation.py\", line 531, in _fit_and_score\n",
      "    estimator.fit(X_train, y_train, **fit_params)\n",
      "  File \"C:\\Users\\lenovo\\AppData\\Local\\Continuum\\anaconda3\\lib\\site-packages\\sklearn\\ensemble\\_weight_boosting.py\", line 443, in fit\n",
      "    return super().fit(X, y, sample_weight)\n",
      "  File \"C:\\Users\\lenovo\\AppData\\Local\\Continuum\\anaconda3\\lib\\site-packages\\sklearn\\ensemble\\_weight_boosting.py\", line 134, in fit\n",
      "    random_state)\n",
      "  File \"C:\\Users\\lenovo\\AppData\\Local\\Continuum\\anaconda3\\lib\\site-packages\\sklearn\\ensemble\\_weight_boosting.py\", line 503, in _boost\n",
      "    return self._boost_real(iboost, X, y, sample_weight, random_state)\n",
      "  File \"C:\\Users\\lenovo\\AppData\\Local\\Continuum\\anaconda3\\lib\\site-packages\\sklearn\\ensemble\\_weight_boosting.py\", line 513, in _boost_real\n",
      "    estimator.fit(X, y, sample_weight=sample_weight)\n",
      "  File \"C:\\Users\\lenovo\\AppData\\Local\\Continuum\\anaconda3\\lib\\site-packages\\sklearn\\naive_bayes.py\", line 213, in fit\n",
      "    sample_weight=sample_weight)\n",
      "  File \"C:\\Users\\lenovo\\AppData\\Local\\Continuum\\anaconda3\\lib\\site-packages\\sklearn\\naive_bayes.py\", line 436, in _partial_fit\n",
      "    X_i, sw_i)\n",
      "  File \"C:\\Users\\lenovo\\AppData\\Local\\Continuum\\anaconda3\\lib\\site-packages\\sklearn\\naive_bayes.py\", line 264, in _update_mean_variance\n",
      "    new_mu = np.average(X, axis=0, weights=sample_weight)\n",
      "  File \"C:\\Users\\lenovo\\AppData\\Local\\Continuum\\anaconda3\\lib\\site-packages\\numpy\\lib\\function_base.py\", line 422, in average\n",
      "    \"Weights sum to zero, can't be normalized\")\n",
      "ZeroDivisionError: Weights sum to zero, can't be normalized\n",
      "\n",
      "  FitFailedWarning)\n",
      "C:\\Users\\lenovo\\AppData\\Local\\Continuum\\anaconda3\\lib\\site-packages\\sklearn\\model_selection\\_validation.py:552: FitFailedWarning: Estimator fit failed. The score on this train-test partition for these parameters will be set to nan. Details: \n",
      "Traceback (most recent call last):\n",
      "  File \"C:\\Users\\lenovo\\AppData\\Local\\Continuum\\anaconda3\\lib\\site-packages\\sklearn\\model_selection\\_validation.py\", line 531, in _fit_and_score\n",
      "    estimator.fit(X_train, y_train, **fit_params)\n",
      "  File \"C:\\Users\\lenovo\\AppData\\Local\\Continuum\\anaconda3\\lib\\site-packages\\sklearn\\ensemble\\_weight_boosting.py\", line 443, in fit\n",
      "    return super().fit(X, y, sample_weight)\n",
      "  File \"C:\\Users\\lenovo\\AppData\\Local\\Continuum\\anaconda3\\lib\\site-packages\\sklearn\\ensemble\\_weight_boosting.py\", line 134, in fit\n",
      "    random_state)\n",
      "  File \"C:\\Users\\lenovo\\AppData\\Local\\Continuum\\anaconda3\\lib\\site-packages\\sklearn\\ensemble\\_weight_boosting.py\", line 503, in _boost\n",
      "    return self._boost_real(iboost, X, y, sample_weight, random_state)\n",
      "  File \"C:\\Users\\lenovo\\AppData\\Local\\Continuum\\anaconda3\\lib\\site-packages\\sklearn\\ensemble\\_weight_boosting.py\", line 513, in _boost_real\n",
      "    estimator.fit(X, y, sample_weight=sample_weight)\n",
      "  File \"C:\\Users\\lenovo\\AppData\\Local\\Continuum\\anaconda3\\lib\\site-packages\\sklearn\\naive_bayes.py\", line 213, in fit\n",
      "    sample_weight=sample_weight)\n",
      "  File \"C:\\Users\\lenovo\\AppData\\Local\\Continuum\\anaconda3\\lib\\site-packages\\sklearn\\naive_bayes.py\", line 436, in _partial_fit\n",
      "    X_i, sw_i)\n",
      "  File \"C:\\Users\\lenovo\\AppData\\Local\\Continuum\\anaconda3\\lib\\site-packages\\sklearn\\naive_bayes.py\", line 264, in _update_mean_variance\n",
      "    new_mu = np.average(X, axis=0, weights=sample_weight)\n",
      "  File \"C:\\Users\\lenovo\\AppData\\Local\\Continuum\\anaconda3\\lib\\site-packages\\numpy\\lib\\function_base.py\", line 422, in average\n",
      "    \"Weights sum to zero, can't be normalized\")\n",
      "ZeroDivisionError: Weights sum to zero, can't be normalized\n",
      "\n",
      "  FitFailedWarning)\n"
     ]
    },
    {
     "name": "stderr",
     "output_type": "stream",
     "text": [
      "C:\\Users\\lenovo\\AppData\\Local\\Continuum\\anaconda3\\lib\\site-packages\\sklearn\\model_selection\\_validation.py:552: FitFailedWarning: Estimator fit failed. The score on this train-test partition for these parameters will be set to nan. Details: \n",
      "Traceback (most recent call last):\n",
      "  File \"C:\\Users\\lenovo\\AppData\\Local\\Continuum\\anaconda3\\lib\\site-packages\\sklearn\\model_selection\\_validation.py\", line 531, in _fit_and_score\n",
      "    estimator.fit(X_train, y_train, **fit_params)\n",
      "  File \"C:\\Users\\lenovo\\AppData\\Local\\Continuum\\anaconda3\\lib\\site-packages\\sklearn\\ensemble\\_weight_boosting.py\", line 443, in fit\n",
      "    return super().fit(X, y, sample_weight)\n",
      "  File \"C:\\Users\\lenovo\\AppData\\Local\\Continuum\\anaconda3\\lib\\site-packages\\sklearn\\ensemble\\_weight_boosting.py\", line 134, in fit\n",
      "    random_state)\n",
      "  File \"C:\\Users\\lenovo\\AppData\\Local\\Continuum\\anaconda3\\lib\\site-packages\\sklearn\\ensemble\\_weight_boosting.py\", line 503, in _boost\n",
      "    return self._boost_real(iboost, X, y, sample_weight, random_state)\n",
      "  File \"C:\\Users\\lenovo\\AppData\\Local\\Continuum\\anaconda3\\lib\\site-packages\\sklearn\\ensemble\\_weight_boosting.py\", line 513, in _boost_real\n",
      "    estimator.fit(X, y, sample_weight=sample_weight)\n",
      "  File \"C:\\Users\\lenovo\\AppData\\Local\\Continuum\\anaconda3\\lib\\site-packages\\sklearn\\naive_bayes.py\", line 213, in fit\n",
      "    sample_weight=sample_weight)\n",
      "  File \"C:\\Users\\lenovo\\AppData\\Local\\Continuum\\anaconda3\\lib\\site-packages\\sklearn\\naive_bayes.py\", line 436, in _partial_fit\n",
      "    X_i, sw_i)\n",
      "  File \"C:\\Users\\lenovo\\AppData\\Local\\Continuum\\anaconda3\\lib\\site-packages\\sklearn\\naive_bayes.py\", line 264, in _update_mean_variance\n",
      "    new_mu = np.average(X, axis=0, weights=sample_weight)\n",
      "  File \"C:\\Users\\lenovo\\AppData\\Local\\Continuum\\anaconda3\\lib\\site-packages\\numpy\\lib\\function_base.py\", line 422, in average\n",
      "    \"Weights sum to zero, can't be normalized\")\n",
      "ZeroDivisionError: Weights sum to zero, can't be normalized\n",
      "\n",
      "  FitFailedWarning)\n"
     ]
    },
    {
     "name": "stdout",
     "output_type": "stream",
     "text": [
      "Best Parameters:\n",
      "{'n_estimators': 73, 'learning_rate': 0.01}\n",
      "0.8637358321176075\n",
      "[[163   4]\n",
      " [ 17  16]]\n",
      "              precision    recall  f1-score   support\n",
      "\n",
      "         0.0       0.91      0.98      0.94       167\n",
      "         1.0       0.80      0.48      0.60        33\n",
      "\n",
      "    accuracy                           0.90       200\n",
      "   macro avg       0.85      0.73      0.77       200\n",
      "weighted avg       0.89      0.90      0.88       200\n",
      "\n"
     ]
    }
   ],
   "source": [
    "ada=AdaBoostClassifier(base_estimator=gb)\n",
    "\n",
    "param_grid={\n",
    "    'n_estimators':range(10,100),\n",
    "    'learning_rate':[0.1,0.01,1,10]\n",
    "}\n",
    "\n",
    "\n",
    "CV_ada = RandomizedSearchCV(estimator=ada,param_distributions=param_grid, cv= 6)\n",
    "CV_ada.fit(X_train, y_train)\n",
    "\n",
    "print(\"Best Parameters:\")\n",
    "print(CV_ada.best_params_)\n",
    "print(CV_ada.best_score_)\n",
    "\n",
    "\n",
    "#bgr.fit(X_train,y_train)\n",
    "ada_pred=CV_ada.predict(X_test)\n",
    "print(confusion_matrix(y_test,ada_pred))\n",
    "\n",
    "print(classification_report(y_test,ada_pred))"
   ]
  },
  {
   "cell_type": "code",
   "execution_count": 323,
   "metadata": {},
   "outputs": [
    {
     "name": "stdout",
     "output_type": "stream",
     "text": [
      "AUC score 0.88\n"
     ]
    },
    {
     "name": "stderr",
     "output_type": "stream",
     "text": [
      "C:\\Users\\lenovo\\AppData\\Local\\Continuum\\anaconda3\\lib\\site-packages\\sklearn\\utils\\deprecation.py:86: FutureWarning: Function plot_roc_curve is deprecated; This will be removed in v0.5.0. Please use scikitplot.metrics.plot_roc instead.\n",
      "  warnings.warn(msg, category=FutureWarning)\n"
     ]
    },
    {
     "data": {
      "text/plain": [
       "<matplotlib.axes._subplots.AxesSubplot at 0x193ab957e08>"
      ]
     },
     "execution_count": 323,
     "metadata": {},
     "output_type": "execute_result"
    },
    {
     "data": {
      "image/png": "[encoded data removed]",
      "text/plain": [
       "<Figure size 432x288 with 1 Axes>"
      ]
     },
     "metadata": {
      "needs_background": "light"
     },
     "output_type": "display_data"
    }
   ],
   "source": [
    "metrics_value=precision_recall_fscore_support(y_test, ada_pred, average=None,labels=[0,1])\n",
    "recall_for_class_1_adaclassifier=round(metrics_value[1][1],2)\n",
    "\n",
    "\n",
    "auc_adaclassifier=round(roc_auc_score(y_test,CV_ada.predict_log_proba(X_test)[:,1]),2)\n",
    "print('AUC score {}'.format(auc_adaclassifier))\n",
    "skplt.metrics.plot_roc_curve(y_test, CV_ada.predict_proba(X_test))\n"
   ]
  },
  {
   "cell_type": "markdown",
   "metadata": {},
   "source": [
    "## Visualize various model performance"
   ]
  },
  {
   "cell_type": "code",
   "execution_count": 324,
   "metadata": {},
   "outputs": [],
   "source": [
    "auc_list=[auc_lr,auc_svc,auc_naivebayes,auc_dtree,auc_randomforest,auc_gradientboosting,auc_bagging_classifier,auc_adaclassifier]\n",
    "recall_for_1_list=[recall_for_class_1_logistic_regression,recall_for_class_1_SVC,recall_for_class_1_NaiveBayes,recall_for_class_1_DecisionTree,recall_for_class_1_RandomForest,recall_for_class_1_GradientBoosting,recall_for_class_1_bagging_classifier,recall_for_class_1_adaclassifier]\n",
    "model_name_list=['Logistic Regression','SVC','Gaussian Navie Bayes','Decision Tree','RandomForest','Gradient Boosting','Bagging Classifier','Ada Boosting']"
   ]
  },
  {
   "cell_type": "code",
   "execution_count": 325,
   "metadata": {},
   "outputs": [],
   "source": [
    "results_df=pd.DataFrame(\n",
    "{\n",
    "    'model_name':model_name_list,\n",
    "    'auc_score':auc_list,\n",
    "    'recall_score':recall_for_1_list\n",
    "    \n",
    "}\n",
    ")"
   ]
  },
  {
   "cell_type": "code",
   "execution_count": 326,
   "metadata": {},
   "outputs": [
    {
     "data": {
      "text/html": [
       "<div>\n",
       "<style scoped>\n",
       "    .dataframe tbody tr th:only-of-type {\n",
       "        vertical-align: middle;\n",
       "    }\n",
       "\n",
       "    .dataframe tbody tr th {\n",
       "        vertical-align: top;\n",
       "    }\n",
       "\n",
       "    .dataframe thead th {\n",
       "        text-align: right;\n",
       "    }\n",
       "</style>\n",
       "<table border=\"1\" class=\"dataframe\">\n",
       "  <thead>\n",
       "    <tr style=\"text-align: right;\">\n",
       "      <th></th>\n",
       "      <th>model_name</th>\n",
       "      <th>auc_score</th>\n",
       "      <th>recall_score</th>\n",
       "    </tr>\n",
       "  </thead>\n",
       "  <tbody>\n",
       "    <tr>\n",
       "      <th>0</th>\n",
       "      <td>Logistic Regression</td>\n",
       "      <td>0.89</td>\n",
       "      <td>0.484848</td>\n",
       "    </tr>\n",
       "    <tr>\n",
       "      <th>1</th>\n",
       "      <td>SVC</td>\n",
       "      <td>0.91</td>\n",
       "      <td>0.520000</td>\n",
       "    </tr>\n",
       "    <tr>\n",
       "      <th>2</th>\n",
       "      <td>Gaussian Navie Bayes</td>\n",
       "      <td>0.83</td>\n",
       "      <td>0.730000</td>\n",
       "    </tr>\n",
       "    <tr>\n",
       "      <th>3</th>\n",
       "      <td>Decision Tree</td>\n",
       "      <td>0.77</td>\n",
       "      <td>0.090000</td>\n",
       "    </tr>\n",
       "    <tr>\n",
       "      <th>4</th>\n",
       "      <td>RandomForest</td>\n",
       "      <td>0.85</td>\n",
       "      <td>0.000000</td>\n",
       "    </tr>\n",
       "    <tr>\n",
       "      <th>5</th>\n",
       "      <td>Gradient Boosting</td>\n",
       "      <td>0.76</td>\n",
       "      <td>0.270000</td>\n",
       "    </tr>\n",
       "    <tr>\n",
       "      <th>6</th>\n",
       "      <td>Bagging Classifier</td>\n",
       "      <td>0.85</td>\n",
       "      <td>0.730000</td>\n",
       "    </tr>\n",
       "    <tr>\n",
       "      <th>7</th>\n",
       "      <td>Ada Boosting</td>\n",
       "      <td>0.88</td>\n",
       "      <td>0.480000</td>\n",
       "    </tr>\n",
       "  </tbody>\n",
       "</table>\n",
       "</div>"
      ],
      "text/plain": [
       "             model_name  auc_score  recall_score\n",
       "0   Logistic Regression       0.89      0.484848\n",
       "1                   SVC       0.91      0.520000\n",
       "2  Gaussian Navie Bayes       0.83      0.730000\n",
       "3         Decision Tree       0.77      0.090000\n",
       "4          RandomForest       0.85      0.000000\n",
       "5     Gradient Boosting       0.76      0.270000\n",
       "6    Bagging Classifier       0.85      0.730000\n",
       "7          Ada Boosting       0.88      0.480000"
      ]
     },
     "execution_count": 326,
     "metadata": {},
     "output_type": "execute_result"
    }
   ],
   "source": [
    "results_df"
   ]
  },
  {
   "cell_type": "code",
   "execution_count": 327,
   "metadata": {},
   "outputs": [
    {
     "data": {
      "text/plain": [
       "<matplotlib.axes._subplots.AxesSubplot at 0x193ac19e348>"
      ]
     },
     "execution_count": 327,
     "metadata": {},
     "output_type": "execute_result"
    },
    {
     "data": {
      "image/png": "[encoded data removed]",
      "text/plain": [
       "<Figure size 432x288 with 1 Axes>"
      ]
     },
     "metadata": {
      "needs_background": "light"
     },
     "output_type": "display_data"
    }
   ],
   "source": [
    "sns.barplot(data=results_df,x='auc_score',y='model_name')"
   ]
  },
  {
   "cell_type": "code",
   "execution_count": 328,
   "metadata": {},
   "outputs": [
    {
     "data": {
      "text/plain": [
       "<matplotlib.axes._subplots.AxesSubplot at 0x193ab15f588>"
      ]
     },
     "execution_count": 328,
     "metadata": {},
     "output_type": "execute_result"
    },
    {
     "data": {
      "image/png": "[encoded data removed]",
      "text/plain": [
       "<Figure size 432x288 with 1 Axes>"
      ]
     },
     "metadata": {
      "needs_background": "light"
     },
     "output_type": "display_data"
    }
   ],
   "source": [
    "sns.barplot(data=results_df,x='recall_score',y='model_name')"
   ]
  },
  {
   "cell_type": "markdown",
   "metadata": {},
   "source": [
    "AUC–ROC curve is the model selection metric for bi–multi class classification problem. ROC is a probability curve for different classes. ROC tells us how good the model is for distinguishing the given classes, in terms of the predicted probability.\n",
    "\n",
    "A typical ROC curve has False Positive Rate (FPR) on the X-axis and True Positive Rate (TPR) on the Y-axis.\n",
    "\n",
    "The bigger the area covered, the better the machine learning models is at distinguishing the given classes. Ideal value for AUC is 1.\n",
    "\n",
    "When to Use ROC vs. Precision-Recall Curves?\n",
    "Generally, the use of ROC curves and precision-recall curves are as follows:\n",
    "\n",
    "- ROC curves should be used when there are roughly equal numbers of observations for each class.\n",
    "- Precision-Recall curves should be used when there is a moderate to large class imbalance.\n",
    "\n",
    "\n",
    "\n"
   ]
  },
  {
   "cell_type": "markdown",
   "metadata": {},
   "source": [
    "Navie Bayes best helps in identifying True positive.\n",
    "\n",
    "We have created BaggingClassifier  using Naive Bayes as the base classifier, it helps in best reduction of False values for both the classes.\n",
    "\n",
    "BaggingClassifier, has best balance between Recall score and AUC value for class 1"
   ]
  },
  {
   "cell_type": "markdown",
   "metadata": {},
   "source": [
    "## Save model"
   ]
  },
  {
   "cell_type": "code",
   "execution_count": 294,
   "metadata": {},
   "outputs": [],
   "source": [
    "import pickle"
   ]
  },
  {
   "cell_type": "code",
   "execution_count": 295,
   "metadata": {},
   "outputs": [],
   "source": [
    "filename = 'finalized_model.pkl'\n",
    "pickle.dump(CV_bgc, open(filename, 'wb'))\n"
   ]
  },
  {
   "cell_type": "code",
   "execution_count": null,
   "metadata": {},
   "outputs": [],
   "source": []
  }
 ],
 "metadata": {
  "kernelspec": {
   "display_name": "Python 3",
   "language": "python",
   "name": "python3"
  },
  "language_info": {
   "codemirror_mode": {
    "name": "ipython",
    "version": 3
   },
   "file_extension": ".py",
   "mimetype": "text/x-python",
   "name": "python",
   "nbconvert_exporter": "python",
   "pygments_lexer": "ipython3",
   "version": "3.7.4"
  }
 },
 "nbformat": 4,
 "nbformat_minor": 2
}
